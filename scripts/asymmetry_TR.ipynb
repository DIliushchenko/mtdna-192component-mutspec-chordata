{
 "cells": [
  {
   "cell_type": "code",
   "execution_count": 1,
   "metadata": {},
   "outputs": [],
   "source": [
    "import pandas as pd\n",
    "from scipy import stats\n",
    "from pylab import rcParams\n",
    "import numpy as np\n",
    "import matplotlib\n",
    "import matplotlib.pyplot as plt\n",
    "import seaborn as sns"
   ]
  },
  {
   "cell_type": "markdown",
   "metadata": {},
   "source": [
    "### Download dataset 1) MutSpec of vertebrates and 2) asymmetry in nuclear genome"
   ]
  },
  {
   "cell_type": "code",
   "execution_count": 2,
   "metadata": {},
   "outputs": [],
   "source": [
    "assymetry = pd.read_table('../data/external/T-R_plot_allCpG.txt', sep=' ', header=None)\n",
    "mut_vert = pd.read_csv('../data/MutSpecALLvert.csv')"
   ]
  },
  {
   "cell_type": "code",
   "execution_count": 3,
   "metadata": {},
   "outputs": [
    {
     "data": {
      "text/html": [
       "<div>\n",
       "<style scoped>\n",
       "    .dataframe tbody tr th:only-of-type {\n",
       "        vertical-align: middle;\n",
       "    }\n",
       "\n",
       "    .dataframe tbody tr th {\n",
       "        vertical-align: top;\n",
       "    }\n",
       "\n",
       "    .dataframe thead th {\n",
       "        text-align: right;\n",
       "    }\n",
       "</style>\n",
       "<table border=\"1\" class=\"dataframe\">\n",
       "  <thead>\n",
       "    <tr style=\"text-align: right;\">\n",
       "      <th></th>\n",
       "      <th>Mut</th>\n",
       "      <th>MutSpec</th>\n",
       "      <th>MutBase</th>\n",
       "      <th>AncestorCodon</th>\n",
       "    </tr>\n",
       "  </thead>\n",
       "  <tbody>\n",
       "    <tr>\n",
       "      <th>0</th>\n",
       "      <td>A[A&gt;C]A</td>\n",
       "      <td>0.000424</td>\n",
       "      <td>A&gt;C</td>\n",
       "      <td>AAA</td>\n",
       "    </tr>\n",
       "    <tr>\n",
       "      <th>1</th>\n",
       "      <td>A[A&gt;C]C</td>\n",
       "      <td>0.001497</td>\n",
       "      <td>A&gt;C</td>\n",
       "      <td>AAC</td>\n",
       "    </tr>\n",
       "    <tr>\n",
       "      <th>2</th>\n",
       "      <td>A[A&gt;C]G</td>\n",
       "      <td>0.000197</td>\n",
       "      <td>A&gt;C</td>\n",
       "      <td>AAG</td>\n",
       "    </tr>\n",
       "    <tr>\n",
       "      <th>3</th>\n",
       "      <td>A[A&gt;C]T</td>\n",
       "      <td>0.000000</td>\n",
       "      <td>A&gt;C</td>\n",
       "      <td>AAT</td>\n",
       "    </tr>\n",
       "    <tr>\n",
       "      <th>4</th>\n",
       "      <td>A[A&gt;G]A</td>\n",
       "      <td>0.014522</td>\n",
       "      <td>A&gt;G</td>\n",
       "      <td>AAA</td>\n",
       "    </tr>\n",
       "  </tbody>\n",
       "</table>\n",
       "</div>"
      ],
      "text/plain": [
       "       Mut   MutSpec MutBase AncestorCodon\n",
       "0  A[A>C]A  0.000424     A>C           AAA\n",
       "1  A[A>C]C  0.001497     A>C           AAC\n",
       "2  A[A>C]G  0.000197     A>C           AAG\n",
       "3  A[A>C]T  0.000000     A>C           AAT\n",
       "4  A[A>G]A  0.014522     A>G           AAA"
      ]
     },
     "execution_count": 3,
     "metadata": {},
     "output_type": "execute_result"
    }
   ],
   "source": [
    "mut_vert['MutBase'] = mut_vert.Mut.str.slice(2,5)\n",
    "mut_vert['AncestorCodon'] = mut_vert.Mut.str.get(0) + mut_vert.Mut.str.get(2) + mut_vert.Mut.str.get(-1)\n",
    "mut_vert.head()"
   ]
  },
  {
   "cell_type": "code",
   "execution_count": 4,
   "metadata": {},
   "outputs": [
    {
     "data": {
      "text/html": [
       "<div>\n",
       "<style scoped>\n",
       "    .dataframe tbody tr th:only-of-type {\n",
       "        vertical-align: middle;\n",
       "    }\n",
       "\n",
       "    .dataframe tbody tr th {\n",
       "        vertical-align: top;\n",
       "    }\n",
       "\n",
       "    .dataframe thead th {\n",
       "        text-align: right;\n",
       "    }\n",
       "</style>\n",
       "<table border=\"1\" class=\"dataframe\">\n",
       "  <thead>\n",
       "    <tr style=\"text-align: right;\">\n",
       "      <th></th>\n",
       "      <th>AncestorCodon</th>\n",
       "      <th>MutBase</th>\n",
       "      <th>T</th>\n",
       "      <th>R</th>\n",
       "    </tr>\n",
       "  </thead>\n",
       "  <tbody>\n",
       "    <tr>\n",
       "      <th>0</th>\n",
       "      <td>ACA</td>\n",
       "      <td>C&gt;A</td>\n",
       "      <td>-0.171181</td>\n",
       "      <td>-0.373510</td>\n",
       "    </tr>\n",
       "    <tr>\n",
       "      <th>1</th>\n",
       "      <td>ACA</td>\n",
       "      <td>C&gt;G</td>\n",
       "      <td>0.065067</td>\n",
       "      <td>0.034147</td>\n",
       "    </tr>\n",
       "    <tr>\n",
       "      <th>2</th>\n",
       "      <td>ACA</td>\n",
       "      <td>C&gt;T</td>\n",
       "      <td>-0.012015</td>\n",
       "      <td>-0.052744</td>\n",
       "    </tr>\n",
       "    <tr>\n",
       "      <th>3</th>\n",
       "      <td>ACC</td>\n",
       "      <td>C&gt;A</td>\n",
       "      <td>-0.091167</td>\n",
       "      <td>-0.285840</td>\n",
       "    </tr>\n",
       "    <tr>\n",
       "      <th>4</th>\n",
       "      <td>ACC</td>\n",
       "      <td>C&gt;G</td>\n",
       "      <td>0.091991</td>\n",
       "      <td>0.144789</td>\n",
       "    </tr>\n",
       "  </tbody>\n",
       "</table>\n",
       "</div>"
      ],
      "text/plain": [
       "  AncestorCodon MutBase         T         R\n",
       "0           ACA     C>A -0.171181 -0.373510\n",
       "1           ACA     C>G  0.065067  0.034147\n",
       "2           ACA     C>T -0.012015 -0.052744\n",
       "3           ACC     C>A -0.091167 -0.285840\n",
       "4           ACC     C>G  0.091991  0.144789"
      ]
     },
     "execution_count": 4,
     "metadata": {},
     "output_type": "execute_result"
    }
   ],
   "source": [
    "assymetry = assymetry.rename(columns={0:'AncestorCodon', 1:'MutBase', 2:'T', 3:'R'})\n",
    "assymetry.head()"
   ]
  },
  {
   "cell_type": "code",
   "execution_count": 5,
   "metadata": {},
   "outputs": [],
   "source": [
    "def gettranslate(mut, reverse=True):\n",
    "    translator = str.maketrans(\"ACGT\", \"TGCA\")\n",
    "    if reverse is True:\n",
    "        mut = mut[-1] + mut[1:-1] + mut[0]\n",
    "    new_mut = mut.translate(translator)\n",
    "    return new_mut"
   ]
  },
  {
   "cell_type": "code",
   "execution_count": 6,
   "metadata": {},
   "outputs": [
    {
     "name": "stderr",
     "output_type": "stream",
     "text": [
      "/var/folders/5l/9jtg_90x5s575m1zqn_h0kgm0000gn/T/ipykernel_34079/3797007472.py:12: RuntimeWarning: divide by zero encountered in double_scalars\n",
      "  new_96_mut = mutspec/rev_mutspec\n",
      "/var/folders/5l/9jtg_90x5s575m1zqn_h0kgm0000gn/T/ipykernel_34079/3797007472.py:12: RuntimeWarning: invalid value encountered in double_scalars\n",
      "  new_96_mut = mutspec/rev_mutspec\n"
     ]
    },
    {
     "data": {
      "text/html": [
       "<div>\n",
       "<style scoped>\n",
       "    .dataframe tbody tr th:only-of-type {\n",
       "        vertical-align: middle;\n",
       "    }\n",
       "\n",
       "    .dataframe tbody tr th {\n",
       "        vertical-align: top;\n",
       "    }\n",
       "\n",
       "    .dataframe thead th {\n",
       "        text-align: right;\n",
       "    }\n",
       "</style>\n",
       "<table border=\"1\" class=\"dataframe\">\n",
       "  <thead>\n",
       "    <tr style=\"text-align: right;\">\n",
       "      <th></th>\n",
       "      <th>AncestorCodon</th>\n",
       "      <th>MutBase</th>\n",
       "      <th>MutSpec</th>\n",
       "    </tr>\n",
       "  </thead>\n",
       "  <tbody>\n",
       "    <tr>\n",
       "      <th>0</th>\n",
       "      <td>ACA</td>\n",
       "      <td>C&gt;A</td>\n",
       "      <td>0.000000</td>\n",
       "    </tr>\n",
       "    <tr>\n",
       "      <th>1</th>\n",
       "      <td>ACA</td>\n",
       "      <td>C&gt;G</td>\n",
       "      <td>0.000000</td>\n",
       "    </tr>\n",
       "    <tr>\n",
       "      <th>2</th>\n",
       "      <td>ACA</td>\n",
       "      <td>C&gt;T</td>\n",
       "      <td>3.473528</td>\n",
       "    </tr>\n",
       "    <tr>\n",
       "      <th>3</th>\n",
       "      <td>ACC</td>\n",
       "      <td>C&gt;A</td>\n",
       "      <td>0.000000</td>\n",
       "    </tr>\n",
       "    <tr>\n",
       "      <th>4</th>\n",
       "      <td>ACC</td>\n",
       "      <td>C&gt;G</td>\n",
       "      <td>0.000000</td>\n",
       "    </tr>\n",
       "  </tbody>\n",
       "</table>\n",
       "</div>"
      ],
      "text/plain": [
       "  AncestorCodon MutBase   MutSpec\n",
       "0           ACA     C>A  0.000000\n",
       "1           ACA     C>G  0.000000\n",
       "2           ACA     C>T  3.473528\n",
       "3           ACC     C>A  0.000000\n",
       "4           ACC     C>G  0.000000"
      ]
     },
     "execution_count": 6,
     "metadata": {},
     "output_type": "execute_result"
    }
   ],
   "source": [
    "to_96_comp = []\n",
    "for num_subs in range(0,96):\n",
    "    # define ancestral and mutbase from mutspec according on 96 comp from asymmetry\n",
    "    anc = assymetry.iloc[num_subs, 0]\n",
    "    mb = assymetry.iloc[num_subs, 1]\n",
    "    # get reverse subs with context\n",
    "    rev_anc = gettranslate(anc, reverse=True)\n",
    "    rev_mb = gettranslate(mb, reverse=False)\n",
    "    # find mutspec num for the mutbase and context same with reverse, than devide on reverse\n",
    "    rev_mutspec = mut_vert[(mut_vert.MutBase == rev_mb) & (mut_vert.AncestorCodon == rev_anc)].MutSpec.values[0]\n",
    "    mutspec = mut_vert[(mut_vert.MutBase == mb) & (mut_vert.AncestorCodon == anc)].MutSpec.values[0]\n",
    "    new_96_mut = mutspec/rev_mutspec\n",
    "    #define row for future df\n",
    "    out_mut = {'AncestorCodon': anc, 'MutBase': mb, 'MutSpec': new_96_mut}\n",
    "    to_96_comp.append(out_mut)\n",
    "\n",
    "mut_96_comp = pd.DataFrame(to_96_comp)\n",
    "mut_96_comp[\"MutSpec\"] = mut_96_comp[\"MutSpec\"].replace(np.inf, 0)\n",
    "mut_96_comp[\"MutSpec\"] = mut_96_comp[\"MutSpec\"].fillna(0)\n",
    "mut_96_comp.head()\n",
    "    "
   ]
  },
  {
   "cell_type": "code",
   "execution_count": 41,
   "metadata": {},
   "outputs": [
    {
     "data": {
      "text/html": [
       "<div>\n",
       "<style scoped>\n",
       "    .dataframe tbody tr th:only-of-type {\n",
       "        vertical-align: middle;\n",
       "    }\n",
       "\n",
       "    .dataframe tbody tr th {\n",
       "        vertical-align: top;\n",
       "    }\n",
       "\n",
       "    .dataframe thead th {\n",
       "        text-align: right;\n",
       "    }\n",
       "</style>\n",
       "<table border=\"1\" class=\"dataframe\">\n",
       "  <thead>\n",
       "    <tr style=\"text-align: right;\">\n",
       "      <th></th>\n",
       "      <th>AncestorCodon</th>\n",
       "      <th>MutBase</th>\n",
       "      <th>T</th>\n",
       "      <th>R</th>\n",
       "      <th>MutSpec</th>\n",
       "    </tr>\n",
       "  </thead>\n",
       "  <tbody>\n",
       "    <tr>\n",
       "      <th>2</th>\n",
       "      <td>ACA</td>\n",
       "      <td>C&gt;T</td>\n",
       "      <td>-0.012015</td>\n",
       "      <td>-0.052744</td>\n",
       "      <td>1.796402</td>\n",
       "    </tr>\n",
       "    <tr>\n",
       "      <th>5</th>\n",
       "      <td>ACC</td>\n",
       "      <td>C&gt;T</td>\n",
       "      <td>0.028556</td>\n",
       "      <td>-0.069531</td>\n",
       "      <td>2.329356</td>\n",
       "    </tr>\n",
       "    <tr>\n",
       "      <th>8</th>\n",
       "      <td>ACG</td>\n",
       "      <td>C&gt;T</td>\n",
       "      <td>0.071747</td>\n",
       "      <td>0.012317</td>\n",
       "      <td>1.465678</td>\n",
       "    </tr>\n",
       "    <tr>\n",
       "      <th>11</th>\n",
       "      <td>ACT</td>\n",
       "      <td>C&gt;T</td>\n",
       "      <td>-0.088058</td>\n",
       "      <td>-0.074512</td>\n",
       "      <td>1.504908</td>\n",
       "    </tr>\n",
       "    <tr>\n",
       "      <th>13</th>\n",
       "      <td>ATA</td>\n",
       "      <td>T&gt;C</td>\n",
       "      <td>-0.320754</td>\n",
       "      <td>-0.774055</td>\n",
       "      <td>-2.192291</td>\n",
       "    </tr>\n",
       "  </tbody>\n",
       "</table>\n",
       "</div>"
      ],
      "text/plain": [
       "   AncestorCodon MutBase         T         R   MutSpec\n",
       "2            ACA     C>T -0.012015 -0.052744  1.796402\n",
       "5            ACC     C>T  0.028556 -0.069531  2.329356\n",
       "8            ACG     C>T  0.071747  0.012317  1.465678\n",
       "11           ACT     C>T -0.088058 -0.074512  1.504908\n",
       "13           ATA     T>C -0.320754 -0.774055 -2.192291"
      ]
     },
     "execution_count": 41,
     "metadata": {},
     "output_type": "execute_result"
    }
   ],
   "source": [
    "final_asymmetry = assymetry.merge(right = mut_96_comp, on=['AncestorCodon', 'MutBase'])\n",
    "final_asymmetry = final_asymmetry[final_asymmetry.MutSpec != 0]\n",
    "final_asymmetry.MutSpec = np.log2(final_asymmetry.MutSpec)\n",
    "final_asymmetry.head()"
   ]
  },
  {
   "cell_type": "code",
   "execution_count": 32,
   "metadata": {},
   "outputs": [],
   "source": [
    "t_cor = stats.spearmanr(final_asymmetry['T'].values, final_asymmetry.MutSpec.values, axis=0)"
   ]
  },
  {
   "cell_type": "code",
   "execution_count": 34,
   "metadata": {},
   "outputs": [],
   "source": [
    "r_cor = stats.spearmanr(final_asymmetry['R'].values, final_asymmetry.MutSpec.values)"
   ]
  },
  {
   "cell_type": "code",
   "execution_count": 42,
   "metadata": {},
   "outputs": [],
   "source": [
    "def label_point(x, y, val, ax):\n",
    "    a = pd.concat({'x': x, 'y': y, 'val': val}, axis=1)\n",
    "    for i, point in a.iterrows():\n",
    "        ax.text(point['x']+.02, point['y'], str(point['val']))"
   ]
  },
  {
   "cell_type": "code",
   "execution_count": 61,
   "metadata": {},
   "outputs": [
    {
     "name": "stderr",
     "output_type": "stream",
     "text": [
      "/var/folders/5l/9jtg_90x5s575m1zqn_h0kgm0000gn/T/ipykernel_34079/1910584822.py:16: UserWarning: You have mixed positional and keyword arguments, some input may be discarded.\n",
      "  fig.legend([axes[0], axes[1]], labels=final_asymmetry.MutBase.drop_duplicates(),\n"
     ]
    },
    {
     "data": {
      "image/png": "[encoded data removed]",
      "text/plain": [
       "<Figure size 1296x360 with 2 Axes>"
      ]
     },
     "metadata": {
      "needs_background": "light"
     },
     "output_type": "display_data"
    }
   ],
   "source": [
    "fig, axes = plt.subplots(1,2, sharex=True, figsize=(18,5))\n",
    "\n",
    "sns.scatterplot(data = final_asymmetry, x='MutSpec', y='T', hue='MutBase', ax=axes[0])\n",
    "label_point(final_asymmetry.MutSpec, final_asymmetry['T'], final_asymmetry.AncestorCodon, axes[0])\n",
    "axes[0].legend([],[], frameon=False)\n",
    "axes[0].set_xlabel('')\n",
    "axes[0].set_ylabel('log2[T-asymmetry]')\n",
    "\n",
    "\n",
    "sns.scatterplot(data = final_asymmetry, x='MutSpec', y='R', hue='MutBase', ax=axes[1])\n",
    "label_point(final_asymmetry.MutSpec, final_asymmetry['R'], final_asymmetry.AncestorCodon, axes[1])\n",
    "axes[1].legend([],[], frameon=False)\n",
    "axes[1].set_xlabel('')\n",
    "axes[1].set_ylabel('log2[R-asymmetry]')\n",
    "\n",
    "fig.legend([axes[0], axes[1]], labels=final_asymmetry.MutBase.drop_duplicates(),\n",
    "           loc=\"center right\")\n",
    "fig.supxlabel('Mutational Spectrum Asymmetry')\n",
    "fig.savefig('../pictures/AsymmetryTRM.pdf', dpi=300)"
   ]
  },
  {
   "cell_type": "code",
   "execution_count": 62,
   "metadata": {},
   "outputs": [],
   "source": [
    "final_asymmetry.to_csv('../data/asymmetry_mutspec.csv', index=False)"
   ]
  },
  {
   "cell_type": "markdown",
   "metadata": {},
   "source": [
    "### Damage analysis"
   ]
  },
  {
   "cell_type": "code",
   "execution_count": 83,
   "metadata": {},
   "outputs": [],
   "source": [
    "main_subs = ['C>T', 'A>G', 'G>T', 'A>T', 'C>G', 'A>C']"
   ]
  },
  {
   "cell_type": "code",
   "execution_count": 90,
   "metadata": {},
   "outputs": [
    {
     "data": {
      "text/html": [
       "<div>\n",
       "<style scoped>\n",
       "    .dataframe tbody tr th:only-of-type {\n",
       "        vertical-align: middle;\n",
       "    }\n",
       "\n",
       "    .dataframe tbody tr th {\n",
       "        vertical-align: top;\n",
       "    }\n",
       "\n",
       "    .dataframe thead th {\n",
       "        text-align: right;\n",
       "    }\n",
       "</style>\n",
       "<table border=\"1\" class=\"dataframe\">\n",
       "  <thead>\n",
       "    <tr style=\"text-align: right;\">\n",
       "      <th></th>\n",
       "      <th>Mut</th>\n",
       "      <th>ReverseMut</th>\n",
       "      <th>MutSpecDif</th>\n",
       "    </tr>\n",
       "  </thead>\n",
       "  <tbody>\n",
       "    <tr>\n",
       "      <th>0</th>\n",
       "      <td>A[C&gt;T]A</td>\n",
       "      <td>T[G&gt;A]T</td>\n",
       "      <td>0.024372</td>\n",
       "    </tr>\n",
       "    <tr>\n",
       "      <th>1</th>\n",
       "      <td>A[C&gt;T]C</td>\n",
       "      <td>G[G&gt;A]T</td>\n",
       "      <td>0.029733</td>\n",
       "    </tr>\n",
       "    <tr>\n",
       "      <th>2</th>\n",
       "      <td>A[C&gt;T]G</td>\n",
       "      <td>C[G&gt;A]T</td>\n",
       "      <td>0.015401</td>\n",
       "    </tr>\n",
       "    <tr>\n",
       "      <th>3</th>\n",
       "      <td>A[C&gt;T]T</td>\n",
       "      <td>A[G&gt;A]T</td>\n",
       "      <td>0.011718</td>\n",
       "    </tr>\n",
       "    <tr>\n",
       "      <th>4</th>\n",
       "      <td>C[C&gt;T]A</td>\n",
       "      <td>T[G&gt;A]G</td>\n",
       "      <td>0.025892</td>\n",
       "    </tr>\n",
       "  </tbody>\n",
       "</table>\n",
       "</div>"
      ],
      "text/plain": [
       "       Mut ReverseMut  MutSpecDif\n",
       "0  A[C>T]A    T[G>A]T    0.024372\n",
       "1  A[C>T]C    G[G>A]T    0.029733\n",
       "2  A[C>T]G    C[G>A]T    0.015401\n",
       "3  A[C>T]T    A[G>A]T    0.011718\n",
       "4  C[C>T]A    T[G>A]G    0.025892"
      ]
     },
     "execution_count": 90,
     "metadata": {},
     "output_type": "execute_result"
    }
   ],
   "source": [
    "damage = []\n",
    "for mutbase in main_subs:\n",
    "    cont_mb = mut_vert[mut_vert.MutBase == mutbase].Mut\n",
    "    for context in cont_mb:\n",
    "        mutspec_main = mut_vert[mut_vert.Mut == context].MutSpec.values[0]\n",
    "        mutspec_rev = mut_vert[mut_vert.Mut == gettranslate(context, reverse=True)].MutSpec.values[0]\n",
    "        out_damage = {'Mut':context,'ReverseMut':gettranslate(context, reverse=True), 'MutSpecDif':mutspec_main-mutspec_rev}\n",
    "        damage.append(out_damage)\n",
    "damage = pd.DataFrame(damage)\n",
    "damage.head()"
   ]
  },
  {
   "cell_type": "code",
   "execution_count": 91,
   "metadata": {},
   "outputs": [
    {
     "data": {
      "text/plain": [
       "0.5245771260547207"
      ]
     },
     "execution_count": 91,
     "metadata": {},
     "output_type": "execute_result"
    }
   ],
   "source": [
    "damage.MutSpecDif.sum()"
   ]
  }
 ],
 "metadata": {
  "kernelspec": {
   "display_name": "Python 3.10.2 64-bit",
   "language": "python",
   "name": "python3"
  },
  "language_info": {
   "codemirror_mode": {
    "name": "ipython",
    "version": 3
   },
   "file_extension": ".py",
   "mimetype": "text/x-python",
   "name": "python",
   "nbconvert_exporter": "python",
   "pygments_lexer": "ipython3",
   "version": "3.10.2"
  },
  "orig_nbformat": 4,
  "vscode": {
   "interpreter": {
    "hash": "aee8b7b246df8f9039afb4144a1f6fd8d2ca17a180786b69acc140d282b71a49"
   }
  }
 },
 "nbformat": 4,
 "nbformat_minor": 2
}
