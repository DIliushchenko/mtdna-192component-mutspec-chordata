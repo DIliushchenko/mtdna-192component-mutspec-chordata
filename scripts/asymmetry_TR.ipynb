{
 "cells": [
  {
   "cell_type": "code",
   "execution_count": 52,
   "metadata": {},
   "outputs": [],
   "source": [
    "import pandas as pd\n",
    "from scipy import stats\n",
    "import numpy as np\n",
    "import matplotlib\n",
    "import matplotlib.pyplot as plt\n",
    "import seaborn as sns"
   ]
  },
  {
   "cell_type": "markdown",
   "metadata": {},
   "source": [
    "### Download dataset 1) MutSpec of vertebrates and 2) asymmetry in nuclear genome"
   ]
  },
  {
   "cell_type": "code",
   "execution_count": 21,
   "metadata": {},
   "outputs": [],
   "source": [
    "assymetry = pd.read_table('../data/external/T-R_plot_allCpG.txt', sep=' ', header=None)\n",
    "mut_vert = pd.read_csv('../data/MutSpecALLvert.csv')"
   ]
  },
  {
   "cell_type": "code",
   "execution_count": 34,
   "metadata": {},
   "outputs": [
    {
     "data": {
      "text/html": [
       "<div>\n",
       "<style scoped>\n",
       "    .dataframe tbody tr th:only-of-type {\n",
       "        vertical-align: middle;\n",
       "    }\n",
       "\n",
       "    .dataframe tbody tr th {\n",
       "        vertical-align: top;\n",
       "    }\n",
       "\n",
       "    .dataframe thead th {\n",
       "        text-align: right;\n",
       "    }\n",
       "</style>\n",
       "<table border=\"1\" class=\"dataframe\">\n",
       "  <thead>\n",
       "    <tr style=\"text-align: right;\">\n",
       "      <th></th>\n",
       "      <th>Mut</th>\n",
       "      <th>MutSpec</th>\n",
       "      <th>MutBase</th>\n",
       "      <th>AncestorCodon</th>\n",
       "    </tr>\n",
       "  </thead>\n",
       "  <tbody>\n",
       "    <tr>\n",
       "      <th>0</th>\n",
       "      <td>A[A&gt;C]A</td>\n",
       "      <td>0.000424</td>\n",
       "      <td>A&gt;C</td>\n",
       "      <td>AAA</td>\n",
       "    </tr>\n",
       "    <tr>\n",
       "      <th>1</th>\n",
       "      <td>A[A&gt;C]C</td>\n",
       "      <td>0.001497</td>\n",
       "      <td>A&gt;C</td>\n",
       "      <td>AAC</td>\n",
       "    </tr>\n",
       "    <tr>\n",
       "      <th>2</th>\n",
       "      <td>A[A&gt;C]G</td>\n",
       "      <td>0.000197</td>\n",
       "      <td>A&gt;C</td>\n",
       "      <td>AAG</td>\n",
       "    </tr>\n",
       "    <tr>\n",
       "      <th>3</th>\n",
       "      <td>A[A&gt;C]T</td>\n",
       "      <td>0.000000</td>\n",
       "      <td>A&gt;C</td>\n",
       "      <td>AAT</td>\n",
       "    </tr>\n",
       "    <tr>\n",
       "      <th>4</th>\n",
       "      <td>A[A&gt;G]A</td>\n",
       "      <td>0.014522</td>\n",
       "      <td>A&gt;G</td>\n",
       "      <td>AAA</td>\n",
       "    </tr>\n",
       "  </tbody>\n",
       "</table>\n",
       "</div>"
      ],
      "text/plain": [
       "       Mut   MutSpec MutBase AncestorCodon\n",
       "0  A[A>C]A  0.000424     A>C           AAA\n",
       "1  A[A>C]C  0.001497     A>C           AAC\n",
       "2  A[A>C]G  0.000197     A>C           AAG\n",
       "3  A[A>C]T  0.000000     A>C           AAT\n",
       "4  A[A>G]A  0.014522     A>G           AAA"
      ]
     },
     "execution_count": 34,
     "metadata": {},
     "output_type": "execute_result"
    }
   ],
   "source": [
    "mut_vert['MutBase'] = mut_vert.Mut.str.slice(2,5)\n",
    "mut_vert['AncestorCodon'] = mut_vert.Mut.str.get(0) + mut_vert.Mut.str.get(2) + mut_vert.Mut.str.get(-1)\n",
    "mut_vert.head()"
   ]
  },
  {
   "cell_type": "code",
   "execution_count": 25,
   "metadata": {},
   "outputs": [
    {
     "data": {
      "text/html": [
       "<div>\n",
       "<style scoped>\n",
       "    .dataframe tbody tr th:only-of-type {\n",
       "        vertical-align: middle;\n",
       "    }\n",
       "\n",
       "    .dataframe tbody tr th {\n",
       "        vertical-align: top;\n",
       "    }\n",
       "\n",
       "    .dataframe thead th {\n",
       "        text-align: right;\n",
       "    }\n",
       "</style>\n",
       "<table border=\"1\" class=\"dataframe\">\n",
       "  <thead>\n",
       "    <tr style=\"text-align: right;\">\n",
       "      <th></th>\n",
       "      <th>AncestorCodon</th>\n",
       "      <th>MutBase</th>\n",
       "      <th>T</th>\n",
       "      <th>R</th>\n",
       "    </tr>\n",
       "  </thead>\n",
       "  <tbody>\n",
       "    <tr>\n",
       "      <th>0</th>\n",
       "      <td>ACA</td>\n",
       "      <td>C&gt;A</td>\n",
       "      <td>-0.171181</td>\n",
       "      <td>-0.373510</td>\n",
       "    </tr>\n",
       "    <tr>\n",
       "      <th>1</th>\n",
       "      <td>ACA</td>\n",
       "      <td>C&gt;G</td>\n",
       "      <td>0.065067</td>\n",
       "      <td>0.034147</td>\n",
       "    </tr>\n",
       "    <tr>\n",
       "      <th>2</th>\n",
       "      <td>ACA</td>\n",
       "      <td>C&gt;T</td>\n",
       "      <td>-0.012015</td>\n",
       "      <td>-0.052744</td>\n",
       "    </tr>\n",
       "    <tr>\n",
       "      <th>3</th>\n",
       "      <td>ACC</td>\n",
       "      <td>C&gt;A</td>\n",
       "      <td>-0.091167</td>\n",
       "      <td>-0.285840</td>\n",
       "    </tr>\n",
       "    <tr>\n",
       "      <th>4</th>\n",
       "      <td>ACC</td>\n",
       "      <td>C&gt;G</td>\n",
       "      <td>0.091991</td>\n",
       "      <td>0.144789</td>\n",
       "    </tr>\n",
       "  </tbody>\n",
       "</table>\n",
       "</div>"
      ],
      "text/plain": [
       "  AncestorCodon MutBase         T         R\n",
       "0           ACA     C>A -0.171181 -0.373510\n",
       "1           ACA     C>G  0.065067  0.034147\n",
       "2           ACA     C>T -0.012015 -0.052744\n",
       "3           ACC     C>A -0.091167 -0.285840\n",
       "4           ACC     C>G  0.091991  0.144789"
      ]
     },
     "execution_count": 25,
     "metadata": {},
     "output_type": "execute_result"
    }
   ],
   "source": [
    "assymetry = assymetry.rename(columns={0:'AncestorCodon', 1:'MutBase', 2:'T', 3:'R'})\n",
    "assymetry.head()"
   ]
  },
  {
   "cell_type": "code",
   "execution_count": 45,
   "metadata": {},
   "outputs": [],
   "source": [
    "def gettranslate(mut, reverse=True):\n",
    "    translator = str.maketrans(\"ACGT\", \"TGCA\")\n",
    "    if reverse is True:\n",
    "        mut = mut[-1] + mut[1:-1] + mut[0]\n",
    "    new_mut = mut.translate(translator)\n",
    "    return new_mut"
   ]
  },
  {
   "cell_type": "code",
   "execution_count": 59,
   "metadata": {},
   "outputs": [
    {
     "name": "stderr",
     "output_type": "stream",
     "text": [
      "/var/folders/5l/9jtg_90x5s575m1zqn_h0kgm0000gn/T/ipykernel_14586/3797007472.py:12: RuntimeWarning: divide by zero encountered in double_scalars\n",
      "  new_96_mut = mutspec/rev_mutspec\n",
      "/var/folders/5l/9jtg_90x5s575m1zqn_h0kgm0000gn/T/ipykernel_14586/3797007472.py:12: RuntimeWarning: invalid value encountered in double_scalars\n",
      "  new_96_mut = mutspec/rev_mutspec\n"
     ]
    },
    {
     "data": {
      "text/html": [
       "<div>\n",
       "<style scoped>\n",
       "    .dataframe tbody tr th:only-of-type {\n",
       "        vertical-align: middle;\n",
       "    }\n",
       "\n",
       "    .dataframe tbody tr th {\n",
       "        vertical-align: top;\n",
       "    }\n",
       "\n",
       "    .dataframe thead th {\n",
       "        text-align: right;\n",
       "    }\n",
       "</style>\n",
       "<table border=\"1\" class=\"dataframe\">\n",
       "  <thead>\n",
       "    <tr style=\"text-align: right;\">\n",
       "      <th></th>\n",
       "      <th>AncestorCodon</th>\n",
       "      <th>MutBase</th>\n",
       "      <th>MutSpec</th>\n",
       "    </tr>\n",
       "  </thead>\n",
       "  <tbody>\n",
       "    <tr>\n",
       "      <th>0</th>\n",
       "      <td>ACA</td>\n",
       "      <td>C&gt;A</td>\n",
       "      <td>0.000000</td>\n",
       "    </tr>\n",
       "    <tr>\n",
       "      <th>1</th>\n",
       "      <td>ACA</td>\n",
       "      <td>C&gt;G</td>\n",
       "      <td>0.000000</td>\n",
       "    </tr>\n",
       "    <tr>\n",
       "      <th>2</th>\n",
       "      <td>ACA</td>\n",
       "      <td>C&gt;T</td>\n",
       "      <td>3.473528</td>\n",
       "    </tr>\n",
       "    <tr>\n",
       "      <th>3</th>\n",
       "      <td>ACC</td>\n",
       "      <td>C&gt;A</td>\n",
       "      <td>0.000000</td>\n",
       "    </tr>\n",
       "    <tr>\n",
       "      <th>4</th>\n",
       "      <td>ACC</td>\n",
       "      <td>C&gt;G</td>\n",
       "      <td>0.000000</td>\n",
       "    </tr>\n",
       "  </tbody>\n",
       "</table>\n",
       "</div>"
      ],
      "text/plain": [
       "  AncestorCodon MutBase   MutSpec\n",
       "0           ACA     C>A  0.000000\n",
       "1           ACA     C>G  0.000000\n",
       "2           ACA     C>T  3.473528\n",
       "3           ACC     C>A  0.000000\n",
       "4           ACC     C>G  0.000000"
      ]
     },
     "execution_count": 59,
     "metadata": {},
     "output_type": "execute_result"
    }
   ],
   "source": [
    "to_96_comp = []\n",
    "for num_subs in range(0,96):\n",
    "    # define ancestral and mutbase from mutspec according on 96 comp from asymmetry\n",
    "    anc = assymetry.iloc[num_subs, 0]\n",
    "    mb = assymetry.iloc[num_subs, 1]\n",
    "    # get reverse subs with context\n",
    "    rev_anc = gettranslate(anc, reverse=True)\n",
    "    rev_mb = gettranslate(mb, reverse=False)\n",
    "    # find mutspec num for the mutbase and context same with reverse, than devide on reverse\n",
    "    rev_mutspec = mut_vert[(mut_vert.MutBase == rev_mb) & (mut_vert.AncestorCodon == rev_anc)].MutSpec.values[0]\n",
    "    mutspec = mut_vert[(mut_vert.MutBase == mb) & (mut_vert.AncestorCodon == anc)].MutSpec.values[0]\n",
    "    new_96_mut = mutspec/rev_mutspec\n",
    "    #define row for future df\n",
    "    out_mut = {'AncestorCodon': anc, 'MutBase': mb, 'MutSpec': new_96_mut}\n",
    "    to_96_comp.append(out_mut)\n",
    "\n",
    "mut_96_comp = pd.DataFrame(to_96_comp)\n",
    "mut_96_comp[\"MutSpec\"] = mut_96_comp[\"MutSpec\"].replace(np.inf, 0)\n",
    "mut_96_comp[\"MutSpec\"] = mut_96_comp[\"MutSpec\"].fillna(0)\n",
    "mut_96_comp.head()\n",
    "    "
   ]
  },
  {
   "cell_type": "code",
   "execution_count": 61,
   "metadata": {},
   "outputs": [
    {
     "data": {
      "text/html": [
       "<div>\n",
       "<style scoped>\n",
       "    .dataframe tbody tr th:only-of-type {\n",
       "        vertical-align: middle;\n",
       "    }\n",
       "\n",
       "    .dataframe tbody tr th {\n",
       "        vertical-align: top;\n",
       "    }\n",
       "\n",
       "    .dataframe thead th {\n",
       "        text-align: right;\n",
       "    }\n",
       "</style>\n",
       "<table border=\"1\" class=\"dataframe\">\n",
       "  <thead>\n",
       "    <tr style=\"text-align: right;\">\n",
       "      <th></th>\n",
       "      <th>AncestorCodon</th>\n",
       "      <th>MutBase</th>\n",
       "      <th>T</th>\n",
       "      <th>R</th>\n",
       "      <th>MutSpec</th>\n",
       "    </tr>\n",
       "  </thead>\n",
       "  <tbody>\n",
       "    <tr>\n",
       "      <th>0</th>\n",
       "      <td>ACA</td>\n",
       "      <td>C&gt;A</td>\n",
       "      <td>-0.171181</td>\n",
       "      <td>-0.373510</td>\n",
       "      <td>0.000000</td>\n",
       "    </tr>\n",
       "    <tr>\n",
       "      <th>1</th>\n",
       "      <td>ACA</td>\n",
       "      <td>C&gt;G</td>\n",
       "      <td>0.065067</td>\n",
       "      <td>0.034147</td>\n",
       "      <td>0.000000</td>\n",
       "    </tr>\n",
       "    <tr>\n",
       "      <th>2</th>\n",
       "      <td>ACA</td>\n",
       "      <td>C&gt;T</td>\n",
       "      <td>-0.012015</td>\n",
       "      <td>-0.052744</td>\n",
       "      <td>3.473528</td>\n",
       "    </tr>\n",
       "    <tr>\n",
       "      <th>3</th>\n",
       "      <td>ACC</td>\n",
       "      <td>C&gt;A</td>\n",
       "      <td>-0.091167</td>\n",
       "      <td>-0.285840</td>\n",
       "      <td>0.000000</td>\n",
       "    </tr>\n",
       "    <tr>\n",
       "      <th>4</th>\n",
       "      <td>ACC</td>\n",
       "      <td>C&gt;G</td>\n",
       "      <td>0.091991</td>\n",
       "      <td>0.144789</td>\n",
       "      <td>0.000000</td>\n",
       "    </tr>\n",
       "  </tbody>\n",
       "</table>\n",
       "</div>"
      ],
      "text/plain": [
       "  AncestorCodon MutBase         T         R   MutSpec\n",
       "0           ACA     C>A -0.171181 -0.373510  0.000000\n",
       "1           ACA     C>G  0.065067  0.034147  0.000000\n",
       "2           ACA     C>T -0.012015 -0.052744  3.473528\n",
       "3           ACC     C>A -0.091167 -0.285840  0.000000\n",
       "4           ACC     C>G  0.091991  0.144789  0.000000"
      ]
     },
     "execution_count": 61,
     "metadata": {},
     "output_type": "execute_result"
    }
   ],
   "source": [
    "final_asymmetry = assymetry.merge(right = mut_96_comp, on=['AncestorCodon', 'MutBase'])\n",
    "final_asymmetry.head()"
   ]
  },
  {
   "cell_type": "code",
   "execution_count": 67,
   "metadata": {},
   "outputs": [
    {
     "data": {
      "text/plain": [
       "array([-0.17118062,  0.06506702, -0.01201507, -0.09116746,  0.09199053,\n",
       "        0.02855645, -0.12727663, -0.06116554,  0.07174731, -0.12979359,\n",
       "        0.1892969 , -0.08805798, -0.24955231, -0.32075421, -0.0748251 ,\n",
       "       -0.2216924 , -0.28735508, -0.05709805, -0.12466502, -0.24052907,\n",
       "       -0.12221296, -0.1487335 , -0.26991437,  0.10408342, -0.06498826,\n",
       "        0.04536004,  0.17985673,  0.01021717,  0.10195186,  0.18000638,\n",
       "       -0.02861122,  0.06789686,  0.17604523,  0.0149927 ,  0.17166896,\n",
       "        0.11526051, -0.13235352, -0.23169502, -0.01884944, -0.11628336,\n",
       "       -0.11130001, -0.03190266, -0.03324539, -0.17276487, -0.02746773,\n",
       "        0.02118772, -0.12405224,  0.06222161, -0.07899726,  0.05169139,\n",
       "        0.04473298, -0.04292718,  0.03459656,  0.0210991 , -0.08808813,\n",
       "        0.03034268,  0.12193717, -0.05560197,  0.15159614, -0.13827539,\n",
       "       -0.1662281 , -0.22533345, -0.10031489, -0.11375029, -0.20745205,\n",
       "        0.00652584, -0.07292574, -0.19305648, -0.05381691, -0.07671788,\n",
       "       -0.2574875 , -0.02999836,  0.03524983,  0.17021832,  0.22281587,\n",
       "        0.01235489,  0.195606  ,  0.24050957, -0.02124456,  0.08288033,\n",
       "        0.23771507, -0.12628309,  0.2661691 ,  0.2923154 ,  0.05248408,\n",
       "       -0.1790099 ,  0.09476479, -0.04162332, -0.07458435,  0.02180345,\n",
       "        0.01906255, -0.1282211 , -0.01589138,  0.037072  , -0.15446898,\n",
       "        0.0022156 ])"
      ]
     },
     "execution_count": 67,
     "metadata": {},
     "output_type": "execute_result"
    }
   ],
   "source": [
    "final_asymmetry['T'].values"
   ]
  },
  {
   "cell_type": "code",
   "execution_count": 71,
   "metadata": {},
   "outputs": [
    {
     "data": {
      "text/plain": [
       "SpearmanrResult(correlation=0.3366035874725818, pvalue=0.0007987165578151938)"
      ]
     },
     "execution_count": 71,
     "metadata": {},
     "output_type": "execute_result"
    }
   ],
   "source": [
    "stats.spearmanr(final_asymmetry['T'].values, final_asymmetry.MutSpec.values, axis=0)"
   ]
  },
  {
   "cell_type": "code",
   "execution_count": 69,
   "metadata": {},
   "outputs": [
    {
     "data": {
      "text/plain": [
       "SpearmanrResult(correlation=0.2855464344574589, pvalue=0.004801016324322085)"
      ]
     },
     "execution_count": 69,
     "metadata": {},
     "output_type": "execute_result"
    }
   ],
   "source": [
    "stats.spearmanr(final_asymmetry['R'].values, final_asymmetry.MutSpec.values)"
   ]
  },
  {
   "cell_type": "code",
   "execution_count": 76,
   "metadata": {},
   "outputs": [
    {
     "data": {
      "text/plain": [
       "<AxesSubplot:xlabel='MutSpec', ylabel='T'>"
      ]
     },
     "execution_count": 76,
     "metadata": {},
     "output_type": "execute_result"
    },
    {
     "data": {
      "image/png": "[encoded data removed]",
      "text/plain": [
       "<Figure size 1728x864 with 1 Axes>"
      ]
     },
     "metadata": {
      "needs_background": "light"
     },
     "output_type": "display_data"
    }
   ],
   "source": [
    "fig = plt.figure(figsize=(24, 12))\n",
    "sns.scatterplot(data = final_asymmetry, x='MutSpec', y='T', hue='MutBase')\n"
   ]
  },
  {
   "cell_type": "code",
   "execution_count": 77,
   "metadata": {},
   "outputs": [
    {
     "data": {
      "text/plain": [
       "<AxesSubplot:xlabel='MutSpec', ylabel='R'>"
      ]
     },
     "execution_count": 77,
     "metadata": {},
     "output_type": "execute_result"
    },
    {
     "data": {
      "image/png": "[encoded data removed]",
      "text/plain": [
       "<Figure size 1728x864 with 1 Axes>"
      ]
     },
     "metadata": {
      "needs_background": "light"
     },
     "output_type": "display_data"
    }
   ],
   "source": [
    "fig = plt.figure(figsize=(24, 12))\n",
    "sns.scatterplot(data = final_asymmetry, x='MutSpec', y='R', hue='MutBase')"
   ]
  }
 ],
 "metadata": {
  "kernelspec": {
   "display_name": "Python 3.10.2 64-bit",
   "language": "python",
   "name": "python3"
  },
  "language_info": {
   "codemirror_mode": {
    "name": "ipython",
    "version": 3
   },
   "file_extension": ".py",
   "mimetype": "text/x-python",
   "name": "python",
   "nbconvert_exporter": "python",
   "pygments_lexer": "ipython3",
   "version": "3.10.2"
  },
  "orig_nbformat": 4,
  "vscode": {
   "interpreter": {
    "hash": "aee8b7b246df8f9039afb4144a1f6fd8d2ca17a180786b69acc140d282b71a49"
   }
  }
 },
 "nbformat": 4,
 "nbformat_minor": 2
}
