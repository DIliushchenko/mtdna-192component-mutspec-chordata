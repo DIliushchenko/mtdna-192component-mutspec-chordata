{
 "cells": [
  {
   "cell_type": "code",
   "execution_count": 1,
   "metadata": {},
   "outputs": [],
   "source": [
    "import pandas as pd"
   ]
  },
  {
   "cell_type": "markdown",
   "metadata": {},
   "source": [
    "### Read Expected and Obesrved subtitutions and take only CytB and 3 Position"
   ]
  },
  {
   "cell_type": "code",
   "execution_count": 2,
   "metadata": {},
   "outputs": [],
   "source": [
    "obs_mut = pd.read_csv('../data/ObsMutSpec.csv')\n",
    "obs_mut = obs_mut[obs_mut['3Pos'] == 1]\n",
    "obs_mut = obs_mut[obs_mut['Gene'] == 'CytB']\n",
    "exp_mut = pd.read_csv('../data/exp_mut_spec.csv',sep='\\t')\n",
    "exp_mut = exp_mut[exp_mut['3Pos'] == 1]\n",
    "exp_mut = exp_mut[exp_mut['Gene'] == 'CYTB']"
   ]
  },
  {
   "cell_type": "markdown",
   "metadata": {},
   "source": [
    "### Check how many species we have in each data set"
   ]
  },
  {
   "cell_type": "code",
   "execution_count": 16,
   "metadata": {},
   "outputs": [
    {
     "name": "stdout",
     "output_type": "stream",
     "text": [
      "1024, 1024\n"
     ]
    }
   ],
   "source": [
    "sps_exp = exp_mut['Species']\n",
    "sps_obs = obs_mut['Species']\n",
    "print(len(sps_exp.unique()), len(sps_obs.unique()), sep=', ')\n"
   ]
  },
  {
   "cell_type": "markdown",
   "metadata": {},
   "source": [
    "### Take species that presented in each dataset "
   ]
  },
  {
   "cell_type": "code",
   "execution_count": 6,
   "metadata": {},
   "outputs": [],
   "source": [
    "obs_mut = obs_mut.loc[obs_mut['Species'].isin(sps_exp.unique())]\n",
    "exp_mut = exp_mut.loc[exp_mut['Species'].isin(sps_obs.unique())]"
   ]
  },
  {
   "cell_type": "markdown",
   "metadata": {},
   "source": [
    "### Count codons in each gene for each species for observed and expected mutations"
   ]
  },
  {
   "cell_type": "code",
   "execution_count": 7,
   "metadata": {},
   "outputs": [],
   "source": [
    "count_obs_df = obs_mut.groupby(['Species', 'Gene']).Mut3.value_counts()\n",
    "count_obs_df.name = 'CountMut3'\n",
    "count_obs_df = count_obs_df.reset_index()\n",
    "final_obs = count_obs_df.pivot(index=['Species', 'Gene'], columns='Mut3', values='CountMut3').fillna(0)\n",
    "final_obs['ExpectedObserved'] = 'Observed'"
   ]
  },
  {
   "cell_type": "code",
   "execution_count": 8,
   "metadata": {},
   "outputs": [],
   "source": [
    "count_exp_df = exp_mut.groupby(['Species', 'Gene']).Mut3.value_counts()\n",
    "count_exp_df.name = 'CountMut3'\n",
    "count_exp_df = count_exp_df.reset_index()\n",
    "final_exp = count_exp_df.pivot(index=['Species', 'Gene'], columns='Mut3', values='CountMut3').fillna(0)\n",
    "final_exp['ExpectedObserved'] = 'Expected'"
   ]
  },
  {
   "cell_type": "code",
   "execution_count": 9,
   "metadata": {},
   "outputs": [
    {
     "data": {
      "text/html": [
       "<div>\n",
       "<style scoped>\n",
       "    .dataframe tbody tr th:only-of-type {\n",
       "        vertical-align: middle;\n",
       "    }\n",
       "\n",
       "    .dataframe tbody tr th {\n",
       "        vertical-align: top;\n",
       "    }\n",
       "\n",
       "    .dataframe thead th {\n",
       "        text-align: right;\n",
       "    }\n",
       "</style>\n",
       "<table border=\"1\" class=\"dataframe\">\n",
       "  <thead>\n",
       "    <tr style=\"text-align: right;\">\n",
       "      <th></th>\n",
       "      <th>Mut3</th>\n",
       "      <th>A[A&gt;C]A</th>\n",
       "      <th>A[A&gt;C]C</th>\n",
       "      <th>A[A&gt;C]G</th>\n",
       "      <th>A[A&gt;C]T</th>\n",
       "      <th>A[A&gt;G]A</th>\n",
       "      <th>A[A&gt;G]C</th>\n",
       "      <th>A[A&gt;G]G</th>\n",
       "      <th>A[A&gt;G]T</th>\n",
       "      <th>A[A&gt;T]A</th>\n",
       "      <th>A[A&gt;T]C</th>\n",
       "      <th>...</th>\n",
       "      <th>T[T&gt;A]T</th>\n",
       "      <th>T[T&gt;C]A</th>\n",
       "      <th>T[T&gt;C]C</th>\n",
       "      <th>T[T&gt;C]G</th>\n",
       "      <th>T[T&gt;C]T</th>\n",
       "      <th>T[T&gt;G]A</th>\n",
       "      <th>T[T&gt;G]C</th>\n",
       "      <th>T[T&gt;G]G</th>\n",
       "      <th>T[T&gt;G]T</th>\n",
       "      <th>ExpectedObserved</th>\n",
       "    </tr>\n",
       "    <tr>\n",
       "      <th>Species</th>\n",
       "      <th>Gene</th>\n",
       "      <th></th>\n",
       "      <th></th>\n",
       "      <th></th>\n",
       "      <th></th>\n",
       "      <th></th>\n",
       "      <th></th>\n",
       "      <th></th>\n",
       "      <th></th>\n",
       "      <th></th>\n",
       "      <th></th>\n",
       "      <th></th>\n",
       "      <th></th>\n",
       "      <th></th>\n",
       "      <th></th>\n",
       "      <th></th>\n",
       "      <th></th>\n",
       "      <th></th>\n",
       "      <th></th>\n",
       "      <th></th>\n",
       "      <th></th>\n",
       "      <th></th>\n",
       "    </tr>\n",
       "  </thead>\n",
       "  <tbody>\n",
       "    <tr>\n",
       "      <th>Abbottina_obtusirostris</th>\n",
       "      <th>CYTB</th>\n",
       "      <td>8.0</td>\n",
       "      <td>4.0</td>\n",
       "      <td>4.0</td>\n",
       "      <td>4.0</td>\n",
       "      <td>8.0</td>\n",
       "      <td>4.0</td>\n",
       "      <td>4.0</td>\n",
       "      <td>4.0</td>\n",
       "      <td>8.0</td>\n",
       "      <td>4.0</td>\n",
       "      <td>...</td>\n",
       "      <td>9.0</td>\n",
       "      <td>10.0</td>\n",
       "      <td>14.0</td>\n",
       "      <td>12.0</td>\n",
       "      <td>9.0</td>\n",
       "      <td>10.0</td>\n",
       "      <td>14.0</td>\n",
       "      <td>12.0</td>\n",
       "      <td>9.0</td>\n",
       "      <td>Expected</td>\n",
       "    </tr>\n",
       "    <tr>\n",
       "      <th>Abbottina_rivularis</th>\n",
       "      <th>CYTB</th>\n",
       "      <td>6.0</td>\n",
       "      <td>3.0</td>\n",
       "      <td>3.0</td>\n",
       "      <td>3.0</td>\n",
       "      <td>6.0</td>\n",
       "      <td>3.0</td>\n",
       "      <td>3.0</td>\n",
       "      <td>3.0</td>\n",
       "      <td>6.0</td>\n",
       "      <td>3.0</td>\n",
       "      <td>...</td>\n",
       "      <td>10.0</td>\n",
       "      <td>5.0</td>\n",
       "      <td>9.0</td>\n",
       "      <td>8.0</td>\n",
       "      <td>10.0</td>\n",
       "      <td>5.0</td>\n",
       "      <td>9.0</td>\n",
       "      <td>8.0</td>\n",
       "      <td>10.0</td>\n",
       "      <td>Expected</td>\n",
       "    </tr>\n",
       "    <tr>\n",
       "      <th>Abramis_brama</th>\n",
       "      <th>CYTB</th>\n",
       "      <td>9.0</td>\n",
       "      <td>3.0</td>\n",
       "      <td>4.0</td>\n",
       "      <td>5.0</td>\n",
       "      <td>9.0</td>\n",
       "      <td>3.0</td>\n",
       "      <td>4.0</td>\n",
       "      <td>5.0</td>\n",
       "      <td>9.0</td>\n",
       "      <td>3.0</td>\n",
       "      <td>...</td>\n",
       "      <td>9.0</td>\n",
       "      <td>10.0</td>\n",
       "      <td>15.0</td>\n",
       "      <td>13.0</td>\n",
       "      <td>9.0</td>\n",
       "      <td>10.0</td>\n",
       "      <td>15.0</td>\n",
       "      <td>13.0</td>\n",
       "      <td>9.0</td>\n",
       "      <td>Expected</td>\n",
       "    </tr>\n",
       "    <tr>\n",
       "      <th>Acanthogobius_hasta</th>\n",
       "      <th>CYTB</th>\n",
       "      <td>7.0</td>\n",
       "      <td>2.0</td>\n",
       "      <td>3.0</td>\n",
       "      <td>2.0</td>\n",
       "      <td>7.0</td>\n",
       "      <td>2.0</td>\n",
       "      <td>3.0</td>\n",
       "      <td>2.0</td>\n",
       "      <td>7.0</td>\n",
       "      <td>2.0</td>\n",
       "      <td>...</td>\n",
       "      <td>11.0</td>\n",
       "      <td>14.0</td>\n",
       "      <td>16.0</td>\n",
       "      <td>22.0</td>\n",
       "      <td>11.0</td>\n",
       "      <td>14.0</td>\n",
       "      <td>16.0</td>\n",
       "      <td>22.0</td>\n",
       "      <td>11.0</td>\n",
       "      <td>Expected</td>\n",
       "    </tr>\n",
       "    <tr>\n",
       "      <th>Acanthopagrus_latus</th>\n",
       "      <th>CYTB</th>\n",
       "      <td>8.0</td>\n",
       "      <td>3.0</td>\n",
       "      <td>4.0</td>\n",
       "      <td>3.0</td>\n",
       "      <td>8.0</td>\n",
       "      <td>3.0</td>\n",
       "      <td>4.0</td>\n",
       "      <td>3.0</td>\n",
       "      <td>8.0</td>\n",
       "      <td>3.0</td>\n",
       "      <td>...</td>\n",
       "      <td>14.0</td>\n",
       "      <td>11.0</td>\n",
       "      <td>12.0</td>\n",
       "      <td>18.0</td>\n",
       "      <td>14.0</td>\n",
       "      <td>11.0</td>\n",
       "      <td>12.0</td>\n",
       "      <td>18.0</td>\n",
       "      <td>14.0</td>\n",
       "      <td>Expected</td>\n",
       "    </tr>\n",
       "  </tbody>\n",
       "</table>\n",
       "<p>5 rows × 193 columns</p>\n",
       "</div>"
      ],
      "text/plain": [
       "Mut3                          A[A>C]A  A[A>C]C  A[A>C]G  A[A>C]T  A[A>G]A  \\\n",
       "Species                 Gene                                                \n",
       "Abbottina_obtusirostris CYTB      8.0      4.0      4.0      4.0      8.0   \n",
       "Abbottina_rivularis     CYTB      6.0      3.0      3.0      3.0      6.0   \n",
       "Abramis_brama           CYTB      9.0      3.0      4.0      5.0      9.0   \n",
       "Acanthogobius_hasta     CYTB      7.0      2.0      3.0      2.0      7.0   \n",
       "Acanthopagrus_latus     CYTB      8.0      3.0      4.0      3.0      8.0   \n",
       "\n",
       "Mut3                          A[A>G]C  A[A>G]G  A[A>G]T  A[A>T]A  A[A>T]C  \\\n",
       "Species                 Gene                                                \n",
       "Abbottina_obtusirostris CYTB      4.0      4.0      4.0      8.0      4.0   \n",
       "Abbottina_rivularis     CYTB      3.0      3.0      3.0      6.0      3.0   \n",
       "Abramis_brama           CYTB      3.0      4.0      5.0      9.0      3.0   \n",
       "Acanthogobius_hasta     CYTB      2.0      3.0      2.0      7.0      2.0   \n",
       "Acanthopagrus_latus     CYTB      3.0      4.0      3.0      8.0      3.0   \n",
       "\n",
       "Mut3                          ...  T[T>A]T  T[T>C]A  T[T>C]C  T[T>C]G  \\\n",
       "Species                 Gene  ...                                       \n",
       "Abbottina_obtusirostris CYTB  ...      9.0     10.0     14.0     12.0   \n",
       "Abbottina_rivularis     CYTB  ...     10.0      5.0      9.0      8.0   \n",
       "Abramis_brama           CYTB  ...      9.0     10.0     15.0     13.0   \n",
       "Acanthogobius_hasta     CYTB  ...     11.0     14.0     16.0     22.0   \n",
       "Acanthopagrus_latus     CYTB  ...     14.0     11.0     12.0     18.0   \n",
       "\n",
       "Mut3                          T[T>C]T  T[T>G]A  T[T>G]C  T[T>G]G  T[T>G]T  \\\n",
       "Species                 Gene                                                \n",
       "Abbottina_obtusirostris CYTB      9.0     10.0     14.0     12.0      9.0   \n",
       "Abbottina_rivularis     CYTB     10.0      5.0      9.0      8.0     10.0   \n",
       "Abramis_brama           CYTB      9.0     10.0     15.0     13.0      9.0   \n",
       "Acanthogobius_hasta     CYTB     11.0     14.0     16.0     22.0     11.0   \n",
       "Acanthopagrus_latus     CYTB     14.0     11.0     12.0     18.0     14.0   \n",
       "\n",
       "Mut3                          ExpectedObserved  \n",
       "Species                 Gene                    \n",
       "Abbottina_obtusirostris CYTB          Expected  \n",
       "Abbottina_rivularis     CYTB          Expected  \n",
       "Abramis_brama           CYTB          Expected  \n",
       "Acanthogobius_hasta     CYTB          Expected  \n",
       "Acanthopagrus_latus     CYTB          Expected  \n",
       "\n",
       "[5 rows x 193 columns]"
      ]
     },
     "execution_count": 9,
     "metadata": {},
     "output_type": "execute_result"
    }
   ],
   "source": [
    "final_exp.head()"
   ]
  },
  {
   "cell_type": "markdown",
   "metadata": {},
   "source": [
    "### Merge tables and sort by species"
   ]
  },
  {
   "cell_type": "code",
   "execution_count": 10,
   "metadata": {},
   "outputs": [],
   "source": [
    "final_df = pd.concat([final_exp, final_obs])\n",
    "final_df = final_df.sort_values(['Species', 'Gene'])\n",
    "final_df.insert(0, 'ExpectedObserved', final_df.pop('ExpectedObserved'))"
   ]
  },
  {
   "cell_type": "code",
   "execution_count": 15,
   "metadata": {},
   "outputs": [],
   "source": [
    "final_df.to_csv('../data/counted_codons_cytb.csv')"
   ]
  },
  {
   "cell_type": "code",
   "execution_count": null,
   "metadata": {},
   "outputs": [],
   "source": []
  }
 ],
 "metadata": {
  "interpreter": {
   "hash": "d020a05d57c8b212cb8df84e2b44b7d522006a2aabc52130e2736b1913e901c4"
  },
  "kernelspec": {
   "display_name": "Python 3.10.2 ('venv': venv)",
   "language": "python",
   "name": "python3"
  },
  "language_info": {
   "codemirror_mode": {
    "name": "ipython",
    "version": 3
   },
   "file_extension": ".py",
   "mimetype": "text/x-python",
   "name": "python",
   "nbconvert_exporter": "python",
   "pygments_lexer": "ipython3",
   "version": "3.10.2"
  },
  "orig_nbformat": 4
 },
 "nbformat": 4,
 "nbformat_minor": 2
}
