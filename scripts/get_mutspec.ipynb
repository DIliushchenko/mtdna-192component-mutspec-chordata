{
 "cells": [
  {
   "cell_type": "code",
   "execution_count": 3,
   "metadata": {},
   "outputs": [],
   "source": [
    "import pandas as pd\n",
    "import numpy as np\n",
    "import matplotlib\n",
    "import matplotlib.pyplot as plt\n",
    "import seaborn as sns\n",
    "from itertools import groupby\n",
    "from scipy import spatial\n",
    "from itertools import combinations\n"
   ]
  },
  {
   "cell_type": "markdown",
   "metadata": {},
   "source": [
    "### Read file with counted codons"
   ]
  },
  {
   "cell_type": "code",
   "execution_count": 4,
   "metadata": {},
   "outputs": [
    {
     "data": {
      "text/html": [
       "<div>\n",
       "<style scoped>\n",
       "    .dataframe tbody tr th:only-of-type {\n",
       "        vertical-align: middle;\n",
       "    }\n",
       "\n",
       "    .dataframe tbody tr th {\n",
       "        vertical-align: top;\n",
       "    }\n",
       "\n",
       "    .dataframe thead th {\n",
       "        text-align: right;\n",
       "    }\n",
       "</style>\n",
       "<table border=\"1\" class=\"dataframe\">\n",
       "  <thead>\n",
       "    <tr style=\"text-align: right;\">\n",
       "      <th></th>\n",
       "      <th>Species</th>\n",
       "      <th>ExpectedObserved</th>\n",
       "      <th>A[A&gt;C]A</th>\n",
       "      <th>A[A&gt;C]C</th>\n",
       "      <th>A[A&gt;C]G</th>\n",
       "      <th>A[A&gt;C]T</th>\n",
       "      <th>A[A&gt;G]A</th>\n",
       "      <th>A[A&gt;G]C</th>\n",
       "      <th>A[A&gt;G]G</th>\n",
       "      <th>A[A&gt;G]T</th>\n",
       "      <th>...</th>\n",
       "      <th>T[T&gt;A]G</th>\n",
       "      <th>T[T&gt;A]T</th>\n",
       "      <th>T[T&gt;C]A</th>\n",
       "      <th>T[T&gt;C]C</th>\n",
       "      <th>T[T&gt;C]G</th>\n",
       "      <th>T[T&gt;C]T</th>\n",
       "      <th>T[T&gt;G]A</th>\n",
       "      <th>T[T&gt;G]C</th>\n",
       "      <th>T[T&gt;G]G</th>\n",
       "      <th>T[T&gt;G]T</th>\n",
       "    </tr>\n",
       "  </thead>\n",
       "  <tbody>\n",
       "    <tr>\n",
       "      <th>0</th>\n",
       "      <td>Abbottina_obtusirostris</td>\n",
       "      <td>Expected</td>\n",
       "      <td>8.0</td>\n",
       "      <td>4.0</td>\n",
       "      <td>4.0</td>\n",
       "      <td>4.0</td>\n",
       "      <td>8.0</td>\n",
       "      <td>4.0</td>\n",
       "      <td>4.0</td>\n",
       "      <td>4.0</td>\n",
       "      <td>...</td>\n",
       "      <td>12.0</td>\n",
       "      <td>9.0</td>\n",
       "      <td>10.0</td>\n",
       "      <td>14.0</td>\n",
       "      <td>12.0</td>\n",
       "      <td>9.0</td>\n",
       "      <td>10.0</td>\n",
       "      <td>14.0</td>\n",
       "      <td>12.0</td>\n",
       "      <td>9.0</td>\n",
       "    </tr>\n",
       "    <tr>\n",
       "      <th>1</th>\n",
       "      <td>Abbottina_obtusirostris</td>\n",
       "      <td>Observed</td>\n",
       "      <td>0.0</td>\n",
       "      <td>0.0</td>\n",
       "      <td>0.0</td>\n",
       "      <td>0.0</td>\n",
       "      <td>0.0</td>\n",
       "      <td>0.0</td>\n",
       "      <td>0.0</td>\n",
       "      <td>0.0</td>\n",
       "      <td>...</td>\n",
       "      <td>0.0</td>\n",
       "      <td>0.0</td>\n",
       "      <td>0.0</td>\n",
       "      <td>0.0</td>\n",
       "      <td>0.0</td>\n",
       "      <td>0.0</td>\n",
       "      <td>0.0</td>\n",
       "      <td>0.0</td>\n",
       "      <td>0.0</td>\n",
       "      <td>0.0</td>\n",
       "    </tr>\n",
       "    <tr>\n",
       "      <th>2</th>\n",
       "      <td>Abbottina_rivularis</td>\n",
       "      <td>Expected</td>\n",
       "      <td>6.0</td>\n",
       "      <td>3.0</td>\n",
       "      <td>3.0</td>\n",
       "      <td>3.0</td>\n",
       "      <td>6.0</td>\n",
       "      <td>3.0</td>\n",
       "      <td>3.0</td>\n",
       "      <td>3.0</td>\n",
       "      <td>...</td>\n",
       "      <td>8.0</td>\n",
       "      <td>10.0</td>\n",
       "      <td>5.0</td>\n",
       "      <td>9.0</td>\n",
       "      <td>8.0</td>\n",
       "      <td>10.0</td>\n",
       "      <td>5.0</td>\n",
       "      <td>9.0</td>\n",
       "      <td>8.0</td>\n",
       "      <td>10.0</td>\n",
       "    </tr>\n",
       "    <tr>\n",
       "      <th>3</th>\n",
       "      <td>Abbottina_rivularis</td>\n",
       "      <td>Observed</td>\n",
       "      <td>0.0</td>\n",
       "      <td>0.0</td>\n",
       "      <td>0.0</td>\n",
       "      <td>0.0</td>\n",
       "      <td>2.0</td>\n",
       "      <td>1.0</td>\n",
       "      <td>0.0</td>\n",
       "      <td>1.0</td>\n",
       "      <td>...</td>\n",
       "      <td>0.0</td>\n",
       "      <td>0.0</td>\n",
       "      <td>0.0</td>\n",
       "      <td>2.0</td>\n",
       "      <td>1.0</td>\n",
       "      <td>2.0</td>\n",
       "      <td>0.0</td>\n",
       "      <td>0.0</td>\n",
       "      <td>0.0</td>\n",
       "      <td>0.0</td>\n",
       "    </tr>\n",
       "    <tr>\n",
       "      <th>4</th>\n",
       "      <td>Abramis_brama</td>\n",
       "      <td>Expected</td>\n",
       "      <td>9.0</td>\n",
       "      <td>3.0</td>\n",
       "      <td>4.0</td>\n",
       "      <td>5.0</td>\n",
       "      <td>9.0</td>\n",
       "      <td>3.0</td>\n",
       "      <td>4.0</td>\n",
       "      <td>5.0</td>\n",
       "      <td>...</td>\n",
       "      <td>13.0</td>\n",
       "      <td>9.0</td>\n",
       "      <td>10.0</td>\n",
       "      <td>15.0</td>\n",
       "      <td>13.0</td>\n",
       "      <td>9.0</td>\n",
       "      <td>10.0</td>\n",
       "      <td>15.0</td>\n",
       "      <td>13.0</td>\n",
       "      <td>9.0</td>\n",
       "    </tr>\n",
       "  </tbody>\n",
       "</table>\n",
       "<p>5 rows × 194 columns</p>\n",
       "</div>"
      ],
      "text/plain": [
       "                   Species ExpectedObserved  A[A>C]A  A[A>C]C  A[A>C]G  \\\n",
       "0  Abbottina_obtusirostris         Expected      8.0      4.0      4.0   \n",
       "1  Abbottina_obtusirostris         Observed      0.0      0.0      0.0   \n",
       "2      Abbottina_rivularis         Expected      6.0      3.0      3.0   \n",
       "3      Abbottina_rivularis         Observed      0.0      0.0      0.0   \n",
       "4            Abramis_brama         Expected      9.0      3.0      4.0   \n",
       "\n",
       "   A[A>C]T  A[A>G]A  A[A>G]C  A[A>G]G  A[A>G]T  ...  T[T>A]G  T[T>A]T  \\\n",
       "0      4.0      8.0      4.0      4.0      4.0  ...     12.0      9.0   \n",
       "1      0.0      0.0      0.0      0.0      0.0  ...      0.0      0.0   \n",
       "2      3.0      6.0      3.0      3.0      3.0  ...      8.0     10.0   \n",
       "3      0.0      2.0      1.0      0.0      1.0  ...      0.0      0.0   \n",
       "4      5.0      9.0      3.0      4.0      5.0  ...     13.0      9.0   \n",
       "\n",
       "   T[T>C]A  T[T>C]C  T[T>C]G  T[T>C]T  T[T>G]A  T[T>G]C  T[T>G]G  T[T>G]T  \n",
       "0     10.0     14.0     12.0      9.0     10.0     14.0     12.0      9.0  \n",
       "1      0.0      0.0      0.0      0.0      0.0      0.0      0.0      0.0  \n",
       "2      5.0      9.0      8.0     10.0      5.0      9.0      8.0     10.0  \n",
       "3      0.0      2.0      1.0      2.0      0.0      0.0      0.0      0.0  \n",
       "4     10.0     15.0     13.0      9.0     10.0     15.0     13.0      9.0  \n",
       "\n",
       "[5 rows x 194 columns]"
      ]
     },
     "execution_count": 4,
     "metadata": {},
     "output_type": "execute_result"
    }
   ],
   "source": [
    "counted_codons = pd.read_csv(\"../data/counted_codons_cytb.csv\")\n",
    "counted_codons = counted_codons.drop(\"Gene\", axis=1)\n",
    "counted_codons.head()\n"
   ]
  },
  {
   "cell_type": "markdown",
   "metadata": {},
   "source": [
    "###  Change format of table for better counting"
   ]
  },
  {
   "cell_type": "code",
   "execution_count": 5,
   "metadata": {},
   "outputs": [
    {
     "data": {
      "text/html": [
       "<div>\n",
       "<style scoped>\n",
       "    .dataframe tbody tr th:only-of-type {\n",
       "        vertical-align: middle;\n",
       "    }\n",
       "\n",
       "    .dataframe tbody tr th {\n",
       "        vertical-align: top;\n",
       "    }\n",
       "\n",
       "    .dataframe thead th {\n",
       "        text-align: right;\n",
       "    }\n",
       "</style>\n",
       "<table border=\"1\" class=\"dataframe\">\n",
       "  <thead>\n",
       "    <tr style=\"text-align: right;\">\n",
       "      <th></th>\n",
       "      <th>Species</th>\n",
       "      <th>ExpectedObserved</th>\n",
       "      <th>Mut</th>\n",
       "      <th>value</th>\n",
       "    </tr>\n",
       "  </thead>\n",
       "  <tbody>\n",
       "    <tr>\n",
       "      <th>0</th>\n",
       "      <td>Abbottina_obtusirostris</td>\n",
       "      <td>Expected</td>\n",
       "      <td>A[A&gt;C]A</td>\n",
       "      <td>8.0</td>\n",
       "    </tr>\n",
       "    <tr>\n",
       "      <th>1</th>\n",
       "      <td>Abbottina_obtusirostris</td>\n",
       "      <td>Observed</td>\n",
       "      <td>A[A&gt;C]A</td>\n",
       "      <td>0.0</td>\n",
       "    </tr>\n",
       "    <tr>\n",
       "      <th>2</th>\n",
       "      <td>Abbottina_rivularis</td>\n",
       "      <td>Expected</td>\n",
       "      <td>A[A&gt;C]A</td>\n",
       "      <td>6.0</td>\n",
       "    </tr>\n",
       "    <tr>\n",
       "      <th>3</th>\n",
       "      <td>Abbottina_rivularis</td>\n",
       "      <td>Observed</td>\n",
       "      <td>A[A&gt;C]A</td>\n",
       "      <td>0.0</td>\n",
       "    </tr>\n",
       "    <tr>\n",
       "      <th>4</th>\n",
       "      <td>Abramis_brama</td>\n",
       "      <td>Expected</td>\n",
       "      <td>A[A&gt;C]A</td>\n",
       "      <td>9.0</td>\n",
       "    </tr>\n",
       "  </tbody>\n",
       "</table>\n",
       "</div>"
      ],
      "text/plain": [
       "                   Species ExpectedObserved      Mut  value\n",
       "0  Abbottina_obtusirostris         Expected  A[A>C]A    8.0\n",
       "1  Abbottina_obtusirostris         Observed  A[A>C]A    0.0\n",
       "2      Abbottina_rivularis         Expected  A[A>C]A    6.0\n",
       "3      Abbottina_rivularis         Observed  A[A>C]A    0.0\n",
       "4            Abramis_brama         Expected  A[A>C]A    9.0"
      ]
     },
     "execution_count": 5,
     "metadata": {},
     "output_type": "execute_result"
    }
   ],
   "source": [
    "_counted_codons = counted_codons.melt([\"Species\", \"ExpectedObserved\"], counted_codons.columns[2:], var_name=\"Mut\")\n",
    "_counted_codons.head()"
   ]
  },
  {
   "cell_type": "code",
   "execution_count": 6,
   "metadata": {},
   "outputs": [
    {
     "data": {
      "text/html": [
       "<div>\n",
       "<style scoped>\n",
       "    .dataframe tbody tr th:only-of-type {\n",
       "        vertical-align: middle;\n",
       "    }\n",
       "\n",
       "    .dataframe tbody tr th {\n",
       "        vertical-align: top;\n",
       "    }\n",
       "\n",
       "    .dataframe thead th {\n",
       "        text-align: right;\n",
       "    }\n",
       "</style>\n",
       "<table border=\"1\" class=\"dataframe\">\n",
       "  <thead>\n",
       "    <tr style=\"text-align: right;\">\n",
       "      <th>ExpectedObserved</th>\n",
       "      <th>Species</th>\n",
       "      <th>Mut</th>\n",
       "      <th>Expected</th>\n",
       "      <th>Observed</th>\n",
       "    </tr>\n",
       "  </thead>\n",
       "  <tbody>\n",
       "    <tr>\n",
       "      <th>0</th>\n",
       "      <td>Abbottina_obtusirostris</td>\n",
       "      <td>A[A&gt;C]A</td>\n",
       "      <td>8.0</td>\n",
       "      <td>0.0</td>\n",
       "    </tr>\n",
       "    <tr>\n",
       "      <th>1</th>\n",
       "      <td>Abbottina_obtusirostris</td>\n",
       "      <td>A[A&gt;C]C</td>\n",
       "      <td>4.0</td>\n",
       "      <td>0.0</td>\n",
       "    </tr>\n",
       "    <tr>\n",
       "      <th>2</th>\n",
       "      <td>Abbottina_obtusirostris</td>\n",
       "      <td>A[A&gt;C]G</td>\n",
       "      <td>4.0</td>\n",
       "      <td>0.0</td>\n",
       "    </tr>\n",
       "    <tr>\n",
       "      <th>3</th>\n",
       "      <td>Abbottina_obtusirostris</td>\n",
       "      <td>A[A&gt;C]T</td>\n",
       "      <td>4.0</td>\n",
       "      <td>0.0</td>\n",
       "    </tr>\n",
       "    <tr>\n",
       "      <th>4</th>\n",
       "      <td>Abbottina_obtusirostris</td>\n",
       "      <td>A[A&gt;G]A</td>\n",
       "      <td>8.0</td>\n",
       "      <td>0.0</td>\n",
       "    </tr>\n",
       "  </tbody>\n",
       "</table>\n",
       "</div>"
      ],
      "text/plain": [
       "ExpectedObserved                  Species      Mut  Expected  Observed\n",
       "0                 Abbottina_obtusirostris  A[A>C]A       8.0       0.0\n",
       "1                 Abbottina_obtusirostris  A[A>C]C       4.0       0.0\n",
       "2                 Abbottina_obtusirostris  A[A>C]G       4.0       0.0\n",
       "3                 Abbottina_obtusirostris  A[A>C]T       4.0       0.0\n",
       "4                 Abbottina_obtusirostris  A[A>G]A       8.0       0.0"
      ]
     },
     "execution_count": 6,
     "metadata": {},
     "output_type": "execute_result"
    }
   ],
   "source": [
    "mutations = _counted_codons.pivot(index=[\"Species\", \"Mut\"], columns=\"ExpectedObserved\", values=\"value\").reset_index()\n",
    "mutations.head()"
   ]
  },
  {
   "cell_type": "markdown",
   "metadata": {},
   "source": [
    "### Calculate RawMuspec for each species"
   ]
  },
  {
   "cell_type": "code",
   "execution_count": 7,
   "metadata": {},
   "outputs": [
    {
     "data": {
      "text/html": [
       "<div>\n",
       "<style scoped>\n",
       "    .dataframe tbody tr th:only-of-type {\n",
       "        vertical-align: middle;\n",
       "    }\n",
       "\n",
       "    .dataframe tbody tr th {\n",
       "        vertical-align: top;\n",
       "    }\n",
       "\n",
       "    .dataframe thead th {\n",
       "        text-align: right;\n",
       "    }\n",
       "</style>\n",
       "<table border=\"1\" class=\"dataframe\">\n",
       "  <thead>\n",
       "    <tr style=\"text-align: right;\">\n",
       "      <th>ExpectedObserved</th>\n",
       "      <th>Species</th>\n",
       "      <th>Mut</th>\n",
       "      <th>Expected</th>\n",
       "      <th>Observed</th>\n",
       "      <th>RawMutSpec</th>\n",
       "    </tr>\n",
       "  </thead>\n",
       "  <tbody>\n",
       "    <tr>\n",
       "      <th>0</th>\n",
       "      <td>Abbottina_obtusirostris</td>\n",
       "      <td>A[A&gt;C]A</td>\n",
       "      <td>8.0</td>\n",
       "      <td>0.0</td>\n",
       "      <td>0.0</td>\n",
       "    </tr>\n",
       "    <tr>\n",
       "      <th>1</th>\n",
       "      <td>Abbottina_obtusirostris</td>\n",
       "      <td>A[A&gt;C]C</td>\n",
       "      <td>4.0</td>\n",
       "      <td>0.0</td>\n",
       "      <td>0.0</td>\n",
       "    </tr>\n",
       "    <tr>\n",
       "      <th>2</th>\n",
       "      <td>Abbottina_obtusirostris</td>\n",
       "      <td>A[A&gt;C]G</td>\n",
       "      <td>4.0</td>\n",
       "      <td>0.0</td>\n",
       "      <td>0.0</td>\n",
       "    </tr>\n",
       "    <tr>\n",
       "      <th>3</th>\n",
       "      <td>Abbottina_obtusirostris</td>\n",
       "      <td>A[A&gt;C]T</td>\n",
       "      <td>4.0</td>\n",
       "      <td>0.0</td>\n",
       "      <td>0.0</td>\n",
       "    </tr>\n",
       "    <tr>\n",
       "      <th>4</th>\n",
       "      <td>Abbottina_obtusirostris</td>\n",
       "      <td>A[A&gt;G]A</td>\n",
       "      <td>8.0</td>\n",
       "      <td>0.0</td>\n",
       "      <td>0.0</td>\n",
       "    </tr>\n",
       "  </tbody>\n",
       "</table>\n",
       "</div>"
      ],
      "text/plain": [
       "ExpectedObserved                  Species      Mut  Expected  Observed  \\\n",
       "0                 Abbottina_obtusirostris  A[A>C]A       8.0       0.0   \n",
       "1                 Abbottina_obtusirostris  A[A>C]C       4.0       0.0   \n",
       "2                 Abbottina_obtusirostris  A[A>C]G       4.0       0.0   \n",
       "3                 Abbottina_obtusirostris  A[A>C]T       4.0       0.0   \n",
       "4                 Abbottina_obtusirostris  A[A>G]A       8.0       0.0   \n",
       "\n",
       "ExpectedObserved  RawMutSpec  \n",
       "0                        0.0  \n",
       "1                        0.0  \n",
       "2                        0.0  \n",
       "3                        0.0  \n",
       "4                        0.0  "
      ]
     },
     "execution_count": 7,
     "metadata": {},
     "output_type": "execute_result"
    }
   ],
   "source": [
    "mutations[\"RawMutSpec\"] = (mutations[\"Observed\"] / mutations[\"Expected\"]).fillna(0)\n",
    "mutations[\"RawMutSpec\"] = mutations[\"RawMutSpec\"].replace(np.inf, 0)\n",
    "mutations.head()"
   ]
  },
  {
   "cell_type": "code",
   "execution_count": 8,
   "metadata": {},
   "outputs": [
    {
     "data": {
      "text/html": [
       "<div>\n",
       "<style scoped>\n",
       "    .dataframe tbody tr th:only-of-type {\n",
       "        vertical-align: middle;\n",
       "    }\n",
       "\n",
       "    .dataframe tbody tr th {\n",
       "        vertical-align: top;\n",
       "    }\n",
       "\n",
       "    .dataframe thead th {\n",
       "        text-align: right;\n",
       "    }\n",
       "</style>\n",
       "<table border=\"1\" class=\"dataframe\">\n",
       "  <thead>\n",
       "    <tr style=\"text-align: right;\">\n",
       "      <th></th>\n",
       "      <th>Species</th>\n",
       "      <th>RawMutSpecSum</th>\n",
       "    </tr>\n",
       "  </thead>\n",
       "  <tbody>\n",
       "    <tr>\n",
       "      <th>0</th>\n",
       "      <td>Abbottina_obtusirostris</td>\n",
       "      <td>0.922222</td>\n",
       "    </tr>\n",
       "    <tr>\n",
       "      <th>1</th>\n",
       "      <td>Abbottina_rivularis</td>\n",
       "      <td>58.567787</td>\n",
       "    </tr>\n",
       "    <tr>\n",
       "      <th>2</th>\n",
       "      <td>Abramis_brama</td>\n",
       "      <td>6.833472</td>\n",
       "    </tr>\n",
       "    <tr>\n",
       "      <th>3</th>\n",
       "      <td>Acanthogobius_hasta</td>\n",
       "      <td>2.845833</td>\n",
       "    </tr>\n",
       "    <tr>\n",
       "      <th>4</th>\n",
       "      <td>Acanthopagrus_latus</td>\n",
       "      <td>0.166667</td>\n",
       "    </tr>\n",
       "  </tbody>\n",
       "</table>\n",
       "</div>"
      ],
      "text/plain": [
       "                   Species  RawMutSpecSum\n",
       "0  Abbottina_obtusirostris       0.922222\n",
       "1      Abbottina_rivularis      58.567787\n",
       "2            Abramis_brama       6.833472\n",
       "3      Acanthogobius_hasta       2.845833\n",
       "4      Acanthopagrus_latus       0.166667"
      ]
     },
     "execution_count": 8,
     "metadata": {},
     "output_type": "execute_result"
    }
   ],
   "source": [
    "rawsum_df = mutations.groupby(\"Species\").RawMutSpec.sum().reset_index().rename(columns={\"RawMutSpec\": \"RawMutSpecSum\"})\n",
    "rawsum_df.head()"
   ]
  },
  {
   "cell_type": "markdown",
   "metadata": {},
   "source": [
    "### Final Mutational spectrum"
   ]
  },
  {
   "cell_type": "code",
   "execution_count": 9,
   "metadata": {},
   "outputs": [
    {
     "data": {
      "text/html": [
       "<div>\n",
       "<style scoped>\n",
       "    .dataframe tbody tr th:only-of-type {\n",
       "        vertical-align: middle;\n",
       "    }\n",
       "\n",
       "    .dataframe tbody tr th {\n",
       "        vertical-align: top;\n",
       "    }\n",
       "\n",
       "    .dataframe thead th {\n",
       "        text-align: right;\n",
       "    }\n",
       "</style>\n",
       "<table border=\"1\" class=\"dataframe\">\n",
       "  <thead>\n",
       "    <tr style=\"text-align: right;\">\n",
       "      <th></th>\n",
       "      <th>Species</th>\n",
       "      <th>Mut</th>\n",
       "      <th>Expected</th>\n",
       "      <th>Observed</th>\n",
       "      <th>RawMutSpec</th>\n",
       "      <th>RawMutSpecSum</th>\n",
       "      <th>MutSpec</th>\n",
       "    </tr>\n",
       "  </thead>\n",
       "  <tbody>\n",
       "    <tr>\n",
       "      <th>0</th>\n",
       "      <td>Abbottina_obtusirostris</td>\n",
       "      <td>A[A&gt;C]A</td>\n",
       "      <td>8.0</td>\n",
       "      <td>0.0</td>\n",
       "      <td>0.0</td>\n",
       "      <td>0.922222</td>\n",
       "      <td>0.0</td>\n",
       "    </tr>\n",
       "    <tr>\n",
       "      <th>1</th>\n",
       "      <td>Abbottina_obtusirostris</td>\n",
       "      <td>A[A&gt;C]C</td>\n",
       "      <td>4.0</td>\n",
       "      <td>0.0</td>\n",
       "      <td>0.0</td>\n",
       "      <td>0.922222</td>\n",
       "      <td>0.0</td>\n",
       "    </tr>\n",
       "    <tr>\n",
       "      <th>2</th>\n",
       "      <td>Abbottina_obtusirostris</td>\n",
       "      <td>A[A&gt;C]G</td>\n",
       "      <td>4.0</td>\n",
       "      <td>0.0</td>\n",
       "      <td>0.0</td>\n",
       "      <td>0.922222</td>\n",
       "      <td>0.0</td>\n",
       "    </tr>\n",
       "    <tr>\n",
       "      <th>3</th>\n",
       "      <td>Abbottina_obtusirostris</td>\n",
       "      <td>A[A&gt;C]T</td>\n",
       "      <td>4.0</td>\n",
       "      <td>0.0</td>\n",
       "      <td>0.0</td>\n",
       "      <td>0.922222</td>\n",
       "      <td>0.0</td>\n",
       "    </tr>\n",
       "    <tr>\n",
       "      <th>4</th>\n",
       "      <td>Abbottina_obtusirostris</td>\n",
       "      <td>A[A&gt;G]A</td>\n",
       "      <td>8.0</td>\n",
       "      <td>0.0</td>\n",
       "      <td>0.0</td>\n",
       "      <td>0.922222</td>\n",
       "      <td>0.0</td>\n",
       "    </tr>\n",
       "  </tbody>\n",
       "</table>\n",
       "</div>"
      ],
      "text/plain": [
       "                   Species      Mut  Expected  Observed  RawMutSpec  \\\n",
       "0  Abbottina_obtusirostris  A[A>C]A       8.0       0.0         0.0   \n",
       "1  Abbottina_obtusirostris  A[A>C]C       4.0       0.0         0.0   \n",
       "2  Abbottina_obtusirostris  A[A>C]G       4.0       0.0         0.0   \n",
       "3  Abbottina_obtusirostris  A[A>C]T       4.0       0.0         0.0   \n",
       "4  Abbottina_obtusirostris  A[A>G]A       8.0       0.0         0.0   \n",
       "\n",
       "   RawMutSpecSum  MutSpec  \n",
       "0       0.922222      0.0  \n",
       "1       0.922222      0.0  \n",
       "2       0.922222      0.0  \n",
       "3       0.922222      0.0  \n",
       "4       0.922222      0.0  "
      ]
     },
     "execution_count": 9,
     "metadata": {},
     "output_type": "execute_result"
    }
   ],
   "source": [
    "mutspecs = pd.merge(mutations, rawsum_df, on=\"Species\")\n",
    "mutspecs[\"MutSpec\"] = mutspecs[\"RawMutSpec\"] / mutspecs[\"RawMutSpecSum\"]\n",
    "mutspecs.head()"
   ]
  },
  {
   "cell_type": "code",
   "execution_count": 10,
   "metadata": {},
   "outputs": [],
   "source": [
    "def getrevers(mut):\n",
    "    # Stolen from https://github.com/kpotoh/mutspec/blob/master/mutspec/utils/annot.py\n",
    "    translator = str.maketrans(\"ACGT\", \"TGCA\")\n",
    "    new_mut = mut[-1] + mut[1:-1] + mut[0]\n",
    "    new_mut = new_mut.translate(translator)\n",
    "    return new_mut"
   ]
  },
  {
   "cell_type": "markdown",
   "metadata": {},
   "source": [
    "### Here we translate our mutspec with reverse on HEAVY CHAIN"
   ]
  },
  {
   "cell_type": "code",
   "execution_count": 11,
   "metadata": {},
   "outputs": [
    {
     "data": {
      "text/html": [
       "<div>\n",
       "<style scoped>\n",
       "    .dataframe tbody tr th:only-of-type {\n",
       "        vertical-align: middle;\n",
       "    }\n",
       "\n",
       "    .dataframe tbody tr th {\n",
       "        vertical-align: top;\n",
       "    }\n",
       "\n",
       "    .dataframe thead th {\n",
       "        text-align: right;\n",
       "    }\n",
       "</style>\n",
       "<table border=\"1\" class=\"dataframe\">\n",
       "  <thead>\n",
       "    <tr style=\"text-align: right;\">\n",
       "      <th></th>\n",
       "      <th>Species</th>\n",
       "      <th>Mut</th>\n",
       "      <th>Expected</th>\n",
       "      <th>Observed</th>\n",
       "      <th>RawMutSpec</th>\n",
       "      <th>RawMutSpecSum</th>\n",
       "      <th>MutSpec</th>\n",
       "      <th>MutBase</th>\n",
       "      <th>Context</th>\n",
       "    </tr>\n",
       "  </thead>\n",
       "  <tbody>\n",
       "    <tr>\n",
       "      <th>0</th>\n",
       "      <td>Abbottina_obtusirostris</td>\n",
       "      <td>T[T&gt;G]T</td>\n",
       "      <td>8.0</td>\n",
       "      <td>0.0</td>\n",
       "      <td>0.0</td>\n",
       "      <td>0.922222</td>\n",
       "      <td>0.0</td>\n",
       "      <td>T&gt;G</td>\n",
       "      <td>TTT</td>\n",
       "    </tr>\n",
       "    <tr>\n",
       "      <th>1</th>\n",
       "      <td>Abbottina_obtusirostris</td>\n",
       "      <td>G[T&gt;G]T</td>\n",
       "      <td>4.0</td>\n",
       "      <td>0.0</td>\n",
       "      <td>0.0</td>\n",
       "      <td>0.922222</td>\n",
       "      <td>0.0</td>\n",
       "      <td>T&gt;G</td>\n",
       "      <td>GTT</td>\n",
       "    </tr>\n",
       "    <tr>\n",
       "      <th>2</th>\n",
       "      <td>Abbottina_obtusirostris</td>\n",
       "      <td>C[T&gt;G]T</td>\n",
       "      <td>4.0</td>\n",
       "      <td>0.0</td>\n",
       "      <td>0.0</td>\n",
       "      <td>0.922222</td>\n",
       "      <td>0.0</td>\n",
       "      <td>T&gt;G</td>\n",
       "      <td>CTT</td>\n",
       "    </tr>\n",
       "    <tr>\n",
       "      <th>3</th>\n",
       "      <td>Abbottina_obtusirostris</td>\n",
       "      <td>A[T&gt;G]T</td>\n",
       "      <td>4.0</td>\n",
       "      <td>0.0</td>\n",
       "      <td>0.0</td>\n",
       "      <td>0.922222</td>\n",
       "      <td>0.0</td>\n",
       "      <td>T&gt;G</td>\n",
       "      <td>ATT</td>\n",
       "    </tr>\n",
       "    <tr>\n",
       "      <th>4</th>\n",
       "      <td>Abbottina_obtusirostris</td>\n",
       "      <td>T[T&gt;C]T</td>\n",
       "      <td>8.0</td>\n",
       "      <td>0.0</td>\n",
       "      <td>0.0</td>\n",
       "      <td>0.922222</td>\n",
       "      <td>0.0</td>\n",
       "      <td>T&gt;C</td>\n",
       "      <td>TTT</td>\n",
       "    </tr>\n",
       "  </tbody>\n",
       "</table>\n",
       "</div>"
      ],
      "text/plain": [
       "                   Species      Mut  Expected  Observed  RawMutSpec  \\\n",
       "0  Abbottina_obtusirostris  T[T>G]T       8.0       0.0         0.0   \n",
       "1  Abbottina_obtusirostris  G[T>G]T       4.0       0.0         0.0   \n",
       "2  Abbottina_obtusirostris  C[T>G]T       4.0       0.0         0.0   \n",
       "3  Abbottina_obtusirostris  A[T>G]T       4.0       0.0         0.0   \n",
       "4  Abbottina_obtusirostris  T[T>C]T       8.0       0.0         0.0   \n",
       "\n",
       "   RawMutSpecSum  MutSpec MutBase Context  \n",
       "0       0.922222      0.0     T>G     TTT  \n",
       "1       0.922222      0.0     T>G     GTT  \n",
       "2       0.922222      0.0     T>G     CTT  \n",
       "3       0.922222      0.0     T>G     ATT  \n",
       "4       0.922222      0.0     T>C     TTT  "
      ]
     },
     "execution_count": 11,
     "metadata": {},
     "output_type": "execute_result"
    }
   ],
   "source": [
    "mutspecs['Mut'] = mutspecs.Mut.apply(getrevers)\n",
    "mutspecs[\"MutBase\"] = mutspecs.Mut.str.slice(2, 5)\n",
    "mutspecs[\"Context\"] = mutspecs.Mut.str.get(0) + mutspecs.Mut.str.get(2) + mutspecs.Mut.str.get(-1)\n",
    "mutspecs.head()"
   ]
  },
  {
   "cell_type": "code",
   "execution_count": 12,
   "metadata": {},
   "outputs": [],
   "source": [
    "possible_sbs192 = [\n",
    "    \"A[A>C]A\", \"A[A>C]C\", \"A[A>C]G\", \"A[A>C]T\", \"C[A>C]A\", \"C[A>C]C\", \"C[A>C]G\", \"C[A>C]T\", \n",
    "    \"G[A>C]A\", \"G[A>C]C\", \"G[A>C]G\", \"G[A>C]T\", \"T[A>C]A\", \"T[A>C]C\", \"T[A>C]G\", \"T[A>C]T\", \n",
    "    \"A[A>G]A\", \"A[A>G]C\", \"A[A>G]G\", \"A[A>G]T\", \"C[A>G]A\", \"C[A>G]C\", \"C[A>G]G\", \"C[A>G]T\", \n",
    "    \"G[A>G]A\", \"G[A>G]C\", \"G[A>G]G\", \"G[A>G]T\", \"T[A>G]A\", \"T[A>G]C\", \"T[A>G]G\", \"T[A>G]T\", \n",
    "    \"A[A>T]A\", \"A[A>T]C\", \"A[A>T]G\", \"A[A>T]T\", \"C[A>T]A\", \"C[A>T]C\", \"C[A>T]G\", \"C[A>T]T\", \n",
    "    \"G[A>T]A\", \"G[A>T]C\", \"G[A>T]G\", \"G[A>T]T\", \"T[A>T]A\", \"T[A>T]C\", \"T[A>T]G\", \"T[A>T]T\", \n",
    "    \"A[C>A]A\", \"A[C>A]C\", \"A[C>A]G\", \"A[C>A]T\", \"C[C>A]A\", \"C[C>A]C\", \"C[C>A]G\", \"C[C>A]T\", \n",
    "    \"G[C>A]A\", \"G[C>A]C\", \"G[C>A]G\", \"G[C>A]T\", \"T[C>A]A\", \"T[C>A]C\", \"T[C>A]G\", \"T[C>A]T\", \n",
    "    \"A[C>G]A\", \"A[C>G]C\", \"A[C>G]G\", \"A[C>G]T\", \"C[C>G]A\", \"C[C>G]C\", \"C[C>G]G\", \"C[C>G]T\", \n",
    "    \"G[C>G]A\", \"G[C>G]C\", \"G[C>G]G\", \"G[C>G]T\", \"T[C>G]A\", \"T[C>G]C\", \"T[C>G]G\", \"T[C>G]T\", \n",
    "    \"A[C>T]A\", \"A[C>T]C\", \"A[C>T]G\", \"A[C>T]T\", \"C[C>T]A\", \"C[C>T]C\", \"C[C>T]G\", \"C[C>T]T\", \n",
    "    \"G[C>T]A\", \"G[C>T]C\", \"G[C>T]G\", \"G[C>T]T\", \"T[C>T]A\", \"T[C>T]C\", \"T[C>T]G\", \"T[C>T]T\", \n",
    "    \"A[G>A]A\", \"A[G>A]C\", \"A[G>A]G\", \"A[G>A]T\", \"C[G>A]A\", \"C[G>A]C\", \"C[G>A]G\", \"C[G>A]T\", \n",
    "    \"G[G>A]A\", \"G[G>A]C\", \"G[G>A]G\", \"G[G>A]T\", \"T[G>A]A\", \"T[G>A]C\", \"T[G>A]G\", \"T[G>A]T\", \n",
    "    \"A[G>C]A\", \"A[G>C]C\", \"A[G>C]G\", \"A[G>C]T\", \"C[G>C]A\", \"C[G>C]C\", \"C[G>C]G\", \"C[G>C]T\", \n",
    "    \"G[G>C]A\", \"G[G>C]C\", \"G[G>C]G\", \"G[G>C]T\", \"T[G>C]A\", \"T[G>C]C\", \"T[G>C]G\", \"T[G>C]T\", \n",
    "    \"A[G>T]A\", \"A[G>T]C\", \"A[G>T]G\", \"A[G>T]T\", \"C[G>T]A\", \"C[G>T]C\", \"C[G>T]G\", \"C[G>T]T\", \n",
    "    \"G[G>T]A\", \"G[G>T]C\", \"G[G>T]G\", \"G[G>T]T\", \"T[G>T]A\", \"T[G>T]C\", \"T[G>T]G\", \"T[G>T]T\", \n",
    "    \"A[T>A]A\", \"A[T>A]C\", \"A[T>A]G\", \"A[T>A]T\", \"C[T>A]A\", \"C[T>A]C\", \"C[T>A]G\", \"C[T>A]T\", \n",
    "    \"G[T>A]A\", \"G[T>A]C\", \"G[T>A]G\", \"G[T>A]T\", \"T[T>A]A\", \"T[T>A]C\", \"T[T>A]G\", \"T[T>A]T\", \n",
    "    \"A[T>C]A\", \"A[T>C]C\", \"A[T>C]G\", \"A[T>C]T\", \"C[T>C]A\", \"C[T>C]C\", \"C[T>C]G\", \"C[T>C]T\", \n",
    "    \"G[T>C]A\", \"G[T>C]C\", \"G[T>C]G\", \"G[T>C]T\", \"T[T>C]A\", \"T[T>C]C\", \"T[T>C]G\", \"T[T>C]T\", \n",
    "    \"A[T>G]A\", \"A[T>G]C\", \"A[T>G]G\", \"A[T>G]T\", \"C[T>G]A\", \"C[T>G]C\", \"C[T>G]G\", \"C[T>G]T\", \n",
    "    \"G[T>G]A\", \"G[T>G]C\", \"G[T>G]G\", \"G[T>G]T\", \"T[T>G]A\", \"T[T>G]C\", \"T[T>G]G\", \"T[T>G]T\", \n",
    "]"
   ]
  },
  {
   "cell_type": "markdown",
   "metadata": {},
   "source": [
    "### Function to draw MutSpec"
   ]
  },
  {
   "cell_type": "code",
   "execution_count": 13,
   "metadata": {},
   "outputs": [],
   "source": [
    "def _add_line(ax, xpos, ypos):\n",
    "    line = plt.Line2D([xpos, xpos], [ypos + .1, ypos],\n",
    "                      transform=ax.transAxes, color='black', linewidth=1)\n",
    "    line.set_clip_on(False)\n",
    "    ax.add_line(line)\n",
    "\n",
    "\n",
    "def _label_len(my_index,level):\n",
    "    labels = my_index.get_level_values(level)\n",
    "    return [(k, sum(1 for i in g)) for k,g in groupby(labels)]\n",
    "\n",
    "\n",
    "def _label_group_bar_table(ax, df):\n",
    "    font = {\n",
    "        'family': 'cursive',\n",
    "        'color':  'black',\n",
    "        'weight': 'normal',\n",
    "        'size': 7,\n",
    "    }\n",
    "    rotation = 90\n",
    "    ypos = -.05\n",
    "    scale = 1./df.index.size\n",
    "    for level in range(df.index.nlevels)[::-1]:\n",
    "        if level == 0:\n",
    "            rotation = 0\n",
    "            font['size'] = 12\n",
    "\n",
    "        pos = 0\n",
    "        for label, rpos in _label_len(df.index, level):\n",
    "            lxpos = (pos + .5 * rpos)*scale\n",
    "            ax.text(lxpos, ypos, label, ha='center', rotation=rotation,\n",
    "                    fontdict=font, transform=ax.transAxes)\n",
    "            if level == 0:\n",
    "                _add_line(ax, pos*scale, ypos)\n",
    "            pos += rpos\n",
    "        if level == 0:\n",
    "            _add_line(ax, pos*scale, ypos)\n",
    "        ypos -= .05\n",
    "\n",
    "\n",
    "def plot_mutspec192(edge_mutspec192, label=\"Mutational spectra\", filepath=None):\n",
    "    df = edge_mutspec192.groupby([\"MutBase\", \"Context\"]).mean()\n",
    "    fig = plt.figure(figsize=(24, 12))\n",
    "    ax = fig.add_subplot(111)\n",
    "    sns.barplot(x=\"Mut\", y=\"MutSpec\", data=edge_mutspec192,\n",
    "                order=possible_sbs192, errwidth=1, ax=fig.gca())\n",
    "\n",
    "    labels = ['' for item in ax.get_xticklabels()]\n",
    "    ax.set_xticklabels(labels)\n",
    "    ax.set_xlabel('')\n",
    "    ax.set_title(label)\n",
    "    _label_group_bar_table(ax, df)\n",
    "    fig.subplots_adjust(bottom=.1*df.index.nlevels)\n",
    "    if filepath is not None:\n",
    "        plt.savefig(filepath, dpi=300)\n",
    "    plt.show()"
   ]
  },
  {
   "cell_type": "markdown",
   "metadata": {},
   "source": [
    "### Plot Mutational Spectrum for all Vertebrates"
   ]
  },
  {
   "cell_type": "code",
   "execution_count": 14,
   "metadata": {},
   "outputs": [
    {
     "name": "stderr",
     "output_type": "stream",
     "text": [
      "findfont: Font family ['cursive'] not found. Falling back to DejaVu Sans.\n",
      "findfont: Generic family 'cursive' not found because none of the following families were found: Apple Chancery, Textile, Zapf Chancery, Sand, Script MT, Felipa, Comic Neue, Comic Sans MS, cursive\n",
      "findfont: Font family ['cursive'] not found. Falling back to DejaVu Sans.\n",
      "findfont: Generic family 'cursive' not found because none of the following families were found: Apple Chancery, Textile, Zapf Chancery, Sand, Script MT, Felipa, Comic Neue, Comic Sans MS, cursive\n"
     ]
    },
    {
     "data": {
      "image/png": "[encoded data removed]",
      "text/plain": [
       "<Figure size 1728x864 with 1 Axes>"
      ]
     },
     "metadata": {
      "needs_background": "light"
     },
     "output_type": "display_data"
    }
   ],
   "source": [
    "plot_mutspec192(mutspecs, label='Vertebrates Mutational Spectra',\n",
    "                filepath='../pictures/VerMutSpec.png')"
   ]
  },
  {
   "cell_type": "markdown",
   "metadata": {},
   "source": [
    "### Add taxonomy and get mutspec for 5 orders"
   ]
  },
  {
   "cell_type": "code",
   "execution_count": 15,
   "metadata": {},
   "outputs": [
    {
     "data": {
      "text/html": [
       "<div>\n",
       "<style scoped>\n",
       "    .dataframe tbody tr th:only-of-type {\n",
       "        vertical-align: middle;\n",
       "    }\n",
       "\n",
       "    .dataframe tbody tr th {\n",
       "        vertical-align: top;\n",
       "    }\n",
       "\n",
       "    .dataframe thead th {\n",
       "        text-align: right;\n",
       "    }\n",
       "</style>\n",
       "<table border=\"1\" class=\"dataframe\">\n",
       "  <thead>\n",
       "    <tr style=\"text-align: right;\">\n",
       "      <th></th>\n",
       "      <th>Class</th>\n",
       "      <th>Species</th>\n",
       "    </tr>\n",
       "  </thead>\n",
       "  <tbody>\n",
       "    <tr>\n",
       "      <th>0</th>\n",
       "      <td>Aves</td>\n",
       "      <td>Corvus_frugilegus</td>\n",
       "    </tr>\n",
       "    <tr>\n",
       "      <th>1</th>\n",
       "      <td>Mammalia</td>\n",
       "      <td>Rhinopithecus_bieti</td>\n",
       "    </tr>\n",
       "    <tr>\n",
       "      <th>2</th>\n",
       "      <td>Mammalia</td>\n",
       "      <td>Cheracebus_lugens</td>\n",
       "    </tr>\n",
       "    <tr>\n",
       "      <th>3</th>\n",
       "      <td>Mammalia</td>\n",
       "      <td>Chiropotes_israelita</td>\n",
       "    </tr>\n",
       "    <tr>\n",
       "      <th>4</th>\n",
       "      <td>Mammalia</td>\n",
       "      <td>Callimico_goeldii</td>\n",
       "    </tr>\n",
       "  </tbody>\n",
       "</table>\n",
       "</div>"
      ],
      "text/plain": [
       "      Class               Species\n",
       "0      Aves     Corvus_frugilegus\n",
       "1  Mammalia   Rhinopithecus_bieti\n",
       "2  Mammalia     Cheracebus_lugens\n",
       "3  Mammalia  Chiropotes_israelita\n",
       "4  Mammalia     Callimico_goeldii"
      ]
     },
     "execution_count": 15,
     "metadata": {},
     "output_type": "execute_result"
    }
   ],
   "source": [
    "taxa = pd.read_csv('../data/taxa_gb.csv', sep='\\t')\n",
    "taxa.head()"
   ]
  },
  {
   "cell_type": "markdown",
   "metadata": {},
   "source": [
    "### How many classes we have"
   ]
  },
  {
   "cell_type": "code",
   "execution_count": 16,
   "metadata": {},
   "outputs": [
    {
     "data": {
      "text/plain": [
       "Actinopterygii    2855\n",
       "Mammalia          1464\n",
       "Aves              1007\n",
       "Amphibia           325\n",
       "Lepidosauria       294\n",
       "Name: Class, dtype: int64"
      ]
     },
     "execution_count": 16,
     "metadata": {},
     "output_type": "execute_result"
    }
   ],
   "source": [
    "taxa['Class'].value_counts()"
   ]
  },
  {
   "cell_type": "code",
   "execution_count": 17,
   "metadata": {},
   "outputs": [],
   "source": [
    "final_mutspec = pd.merge(mutspecs, taxa, on='Species')\n",
    "final_mutspec = final_mutspec.drop_duplicates()"
   ]
  },
  {
   "cell_type": "code",
   "execution_count": 18,
   "metadata": {},
   "outputs": [
    {
     "data": {
      "text/plain": [
       "Actinopterygii    456\n",
       "Mammalia          385\n",
       "Aves               72\n",
       "Lepidosauria       36\n",
       "Amphibia           25\n",
       "Name: Class, dtype: int64"
      ]
     },
     "execution_count": 18,
     "metadata": {},
     "output_type": "execute_result"
    }
   ],
   "source": [
    "final_mutspec['Class'].value_counts()//192"
   ]
  },
  {
   "cell_type": "markdown",
   "metadata": {},
   "source": [
    "How many species we have"
   ]
  },
  {
   "cell_type": "code",
   "execution_count": 19,
   "metadata": {},
   "outputs": [
    {
     "data": {
      "text/plain": [
       "974"
      ]
     },
     "execution_count": 19,
     "metadata": {},
     "output_type": "execute_result"
    }
   ],
   "source": [
    "len(final_mutspec.Species.unique())"
   ]
  },
  {
   "cell_type": "markdown",
   "metadata": {},
   "source": [
    "### Draw Mutational Spectra for different classes"
   ]
  },
  {
   "cell_type": "code",
   "execution_count": 20,
   "metadata": {},
   "outputs": [],
   "source": [
    "taxes_to_draw = ['Mammalia', 'Aves', 'Actinopterygii', 'Lepidosauria', 'Amphibia']"
   ]
  },
  {
   "cell_type": "code",
   "execution_count": 21,
   "metadata": {},
   "outputs": [
    {
     "data": {
      "image/png": "[encoded data removed]",
      "text/plain": [
       "<Figure size 1728x864 with 1 Axes>"
      ]
     },
     "metadata": {
      "needs_background": "light"
     },
     "output_type": "display_data"
    },
    {
     "data": {
      "image/png": "[encoded data removed]",
      "text/plain": [
       "<Figure size 1728x864 with 1 Axes>"
      ]
     },
     "metadata": {
      "needs_background": "light"
     },
     "output_type": "display_data"
    },
    {
     "data": {
      "image/png": "[encoded data removed]",
      "text/plain": [
       "<Figure size 1728x864 with 1 Axes>"
      ]
     },
     "metadata": {
      "needs_background": "light"
     },
     "output_type": "display_data"
    },
    {
     "data": {
      "image/png": "[encoded data removed]",
      "text/plain": [
       "<Figure size 1728x864 with 1 Axes>"
      ]
     },
     "metadata": {
      "needs_background": "light"
     },
     "output_type": "display_data"
    },
    {
     "data": {
      "image/png": "[encoded data removed]",
      "text/plain": [
       "<Figure size 1728x864 with 1 Axes>"
      ]
     },
     "metadata": {
      "needs_background": "light"
     },
     "output_type": "display_data"
    }
   ],
   "source": [
    "for tax in taxes_to_draw:\n",
    "    plot_mutspec192(final_mutspec[final_mutspec['Class'] == tax], label=f'{tax} mutational spectrum',\n",
    "                    filepath=f'../pictures/{tax[:3]}Mutspec.png')"
   ]
  },
  {
   "cell_type": "markdown",
   "metadata": {},
   "source": [
    "## Analys of similarity"
   ]
  },
  {
   "cell_type": "code",
   "execution_count": 22,
   "metadata": {},
   "outputs": [],
   "source": [
    "needed_classes = ['Mammalia', 'Aves', 'Amphibia', 'Lepidosauria', 'Actinopterygii', 'exdloop', 'allcytb']"
   ]
  },
  {
   "cell_type": "markdown",
   "metadata": {},
   "source": [
    "### Calculate mean mutspec for each class "
   ]
  },
  {
   "cell_type": "code",
   "execution_count": 23,
   "metadata": {},
   "outputs": [
    {
     "data": {
      "text/html": [
       "<div>\n",
       "<style scoped>\n",
       "    .dataframe tbody tr th:only-of-type {\n",
       "        vertical-align: middle;\n",
       "    }\n",
       "\n",
       "    .dataframe tbody tr th {\n",
       "        vertical-align: top;\n",
       "    }\n",
       "\n",
       "    .dataframe thead th {\n",
       "        text-align: right;\n",
       "    }\n",
       "</style>\n",
       "<table border=\"1\" class=\"dataframe\">\n",
       "  <thead>\n",
       "    <tr style=\"text-align: right;\">\n",
       "      <th></th>\n",
       "      <th>Class</th>\n",
       "      <th>Mut</th>\n",
       "      <th>MutSpec</th>\n",
       "    </tr>\n",
       "  </thead>\n",
       "  <tbody>\n",
       "    <tr>\n",
       "      <th>0</th>\n",
       "      <td>Actinopterygii</td>\n",
       "      <td>A[A&gt;C]A</td>\n",
       "      <td>0.000663</td>\n",
       "    </tr>\n",
       "    <tr>\n",
       "      <th>1</th>\n",
       "      <td>Actinopterygii</td>\n",
       "      <td>A[A&gt;C]C</td>\n",
       "      <td>0.000515</td>\n",
       "    </tr>\n",
       "    <tr>\n",
       "      <th>2</th>\n",
       "      <td>Actinopterygii</td>\n",
       "      <td>A[A&gt;C]G</td>\n",
       "      <td>0.000261</td>\n",
       "    </tr>\n",
       "    <tr>\n",
       "      <th>3</th>\n",
       "      <td>Actinopterygii</td>\n",
       "      <td>A[A&gt;C]T</td>\n",
       "      <td>0.000013</td>\n",
       "    </tr>\n",
       "    <tr>\n",
       "      <th>4</th>\n",
       "      <td>Actinopterygii</td>\n",
       "      <td>A[A&gt;G]A</td>\n",
       "      <td>0.011530</td>\n",
       "    </tr>\n",
       "  </tbody>\n",
       "</table>\n",
       "</div>"
      ],
      "text/plain": [
       "            Class      Mut   MutSpec\n",
       "0  Actinopterygii  A[A>C]A  0.000663\n",
       "1  Actinopterygii  A[A>C]C  0.000515\n",
       "2  Actinopterygii  A[A>C]G  0.000261\n",
       "3  Actinopterygii  A[A>C]T  0.000013\n",
       "4  Actinopterygii  A[A>G]A  0.011530"
      ]
     },
     "execution_count": 23,
     "metadata": {},
     "output_type": "execute_result"
    }
   ],
   "source": [
    "_met = pd.DataFrame(final_mutspec.groupby(['Class','Mut']).MutSpec.mean().reset_index())\n",
    "_met.head()"
   ]
  },
  {
   "cell_type": "markdown",
   "metadata": {},
   "source": [
    "### Download cancer mutspec "
   ]
  },
  {
   "cell_type": "code",
   "execution_count": 25,
   "metadata": {},
   "outputs": [],
   "source": [
    "cancer = pd.read_csv('../data/external/cancer_mutspec.csv')\n",
    "cancer = cancer.loc[:,['Mut','MutSpec_ExDloop','MutSpec_allCYTB']]"
   ]
  },
  {
   "cell_type": "code",
   "execution_count": 26,
   "metadata": {},
   "outputs": [],
   "source": [
    "exdloop = cancer.iloc[:,[0,1]]\n",
    "exdloop['Class'] = 'exdloop'\n",
    "exdloop = exdloop.rename(columns={'MutSpec_ExDloop': 'MutSpec'})\n",
    "allcytb = cancer.iloc[:,[0,2]]\n",
    "allcytb['Class'] = 'allcytb'\n",
    "allcytb = allcytb.rename(columns={'MutSpec_allCYTB': 'MutSpec'})\n"
   ]
  },
  {
   "cell_type": "code",
   "execution_count": 27,
   "metadata": {},
   "outputs": [],
   "source": [
    "to_cosinus = pd.concat([exdloop, allcytb, _met])"
   ]
  },
  {
   "cell_type": "markdown",
   "metadata": {},
   "source": [
    "### Calculate similarities for each combination of observed classes"
   ]
  },
  {
   "cell_type": "code",
   "execution_count": 28,
   "metadata": {},
   "outputs": [],
   "source": [
    "to_heatmap = []\n",
    "for comb1 in needed_classes:\n",
    "    for comb2 in needed_classes:\n",
    "        cos192 = spatial.distance.cosine(\n",
    "                    to_cosinus[to_cosinus['Class'] == comb1].MutSpec,\n",
    "                    to_cosinus[to_cosinus['Class'] == comb2].MutSpec \n",
    "                )\n",
    "        # print(f'Similarity btw {comb[0]} and {comb[1]} is {1-cos192}')\n",
    "        cos_res = {'Class1':comb1, 'Class2':comb2, 'Similarity':1-cos192}\n",
    "        to_heatmap.append(cos_res)"
   ]
  },
  {
   "cell_type": "markdown",
   "metadata": {},
   "source": [
    "### Draw heatmap of similarities"
   ]
  },
  {
   "cell_type": "code",
   "execution_count": 29,
   "metadata": {},
   "outputs": [],
   "source": [
    "to_heatmap = pd.DataFrame(to_heatmap).pivot('Class2', 'Class1', 'Similarity')\n",
    "matrix = np.triu(to_heatmap)"
   ]
  },
  {
   "cell_type": "code",
   "execution_count": 33,
   "metadata": {},
   "outputs": [
    {
     "data": {
      "text/html": [
       "<div>\n",
       "<style scoped>\n",
       "    .dataframe tbody tr th:only-of-type {\n",
       "        vertical-align: middle;\n",
       "    }\n",
       "\n",
       "    .dataframe tbody tr th {\n",
       "        vertical-align: top;\n",
       "    }\n",
       "\n",
       "    .dataframe thead th {\n",
       "        text-align: right;\n",
       "    }\n",
       "</style>\n",
       "<table border=\"1\" class=\"dataframe\">\n",
       "  <thead>\n",
       "    <tr style=\"text-align: right;\">\n",
       "      <th>Class1</th>\n",
       "      <th>Amphibia</th>\n",
       "      <th>Aves</th>\n",
       "      <th>Lepidosauria</th>\n",
       "      <th>Mammalia</th>\n",
       "      <th>allcytb</th>\n",
       "      <th>exdloop</th>\n",
       "    </tr>\n",
       "    <tr>\n",
       "      <th>Class2</th>\n",
       "      <th></th>\n",
       "      <th></th>\n",
       "      <th></th>\n",
       "      <th></th>\n",
       "      <th></th>\n",
       "      <th></th>\n",
       "    </tr>\n",
       "  </thead>\n",
       "  <tbody>\n",
       "    <tr>\n",
       "      <th>Amphibia</th>\n",
       "      <td>1.000000</td>\n",
       "      <td>0.833112</td>\n",
       "      <td>0.836640</td>\n",
       "      <td>0.902971</td>\n",
       "      <td>0.698940</td>\n",
       "      <td>0.759733</td>\n",
       "    </tr>\n",
       "    <tr>\n",
       "      <th>Aves</th>\n",
       "      <td>0.833112</td>\n",
       "      <td>1.000000</td>\n",
       "      <td>0.862396</td>\n",
       "      <td>0.901553</td>\n",
       "      <td>0.540137</td>\n",
       "      <td>0.645045</td>\n",
       "    </tr>\n",
       "    <tr>\n",
       "      <th>Lepidosauria</th>\n",
       "      <td>0.836640</td>\n",
       "      <td>0.862396</td>\n",
       "      <td>1.000000</td>\n",
       "      <td>0.929004</td>\n",
       "      <td>0.721371</td>\n",
       "      <td>0.764956</td>\n",
       "    </tr>\n",
       "    <tr>\n",
       "      <th>Mammalia</th>\n",
       "      <td>0.902971</td>\n",
       "      <td>0.901553</td>\n",
       "      <td>0.929004</td>\n",
       "      <td>1.000000</td>\n",
       "      <td>0.677204</td>\n",
       "      <td>0.753192</td>\n",
       "    </tr>\n",
       "    <tr>\n",
       "      <th>allcytb</th>\n",
       "      <td>0.698940</td>\n",
       "      <td>0.540137</td>\n",
       "      <td>0.721371</td>\n",
       "      <td>0.677204</td>\n",
       "      <td>1.000000</td>\n",
       "      <td>0.856016</td>\n",
       "    </tr>\n",
       "    <tr>\n",
       "      <th>exdloop</th>\n",
       "      <td>0.759733</td>\n",
       "      <td>0.645045</td>\n",
       "      <td>0.764956</td>\n",
       "      <td>0.753192</td>\n",
       "      <td>0.856016</td>\n",
       "      <td>1.000000</td>\n",
       "    </tr>\n",
       "  </tbody>\n",
       "</table>\n",
       "</div>"
      ],
      "text/plain": [
       "Class1        Amphibia      Aves  Lepidosauria  Mammalia   allcytb   exdloop\n",
       "Class2                                                                      \n",
       "Amphibia      1.000000  0.833112      0.836640  0.902971  0.698940  0.759733\n",
       "Aves          0.833112  1.000000      0.862396  0.901553  0.540137  0.645045\n",
       "Lepidosauria  0.836640  0.862396      1.000000  0.929004  0.721371  0.764956\n",
       "Mammalia      0.902971  0.901553      0.929004  1.000000  0.677204  0.753192\n",
       "allcytb       0.698940  0.540137      0.721371  0.677204  1.000000  0.856016\n",
       "exdloop       0.759733  0.645045      0.764956  0.753192  0.856016  1.000000"
      ]
     },
     "execution_count": 33,
     "metadata": {},
     "output_type": "execute_result"
    }
   ],
   "source": [
    "to_heatmap.iloc[1:, 1:]"
   ]
  },
  {
   "cell_type": "code",
   "execution_count": 35,
   "metadata": {},
   "outputs": [
    {
     "data": {
      "text/plain": [
       "array([[1.        , 0.90839694, 0.84355603, 0.90841111, 0.95971377,\n",
       "        0.716868  , 0.81739575],\n",
       "       [0.        , 1.        , 0.83311183, 0.83664044, 0.90297131,\n",
       "        0.69893961, 0.7597328 ],\n",
       "       [0.        , 0.        , 1.        , 0.86239605, 0.90155283,\n",
       "        0.5401373 , 0.64504486],\n",
       "       [0.        , 0.        , 0.        , 1.        , 0.92900388,\n",
       "        0.72137134, 0.76495552],\n",
       "       [0.        , 0.        , 0.        , 0.        , 1.        ,\n",
       "        0.67720428, 0.75319161],\n",
       "       [0.        , 0.        , 0.        , 0.        , 0.        ,\n",
       "        1.        , 0.85601602],\n",
       "       [0.        , 0.        , 0.        , 0.        , 0.        ,\n",
       "        0.        , 1.        ]])"
      ]
     },
     "execution_count": 35,
     "metadata": {},
     "output_type": "execute_result"
    }
   ],
   "source": [
    "matrix"
   ]
  },
  {
   "cell_type": "code",
   "execution_count": 53,
   "metadata": {},
   "outputs": [
    {
     "data": {
      "image/png": "[encoded data removed]",
      "text/plain": [
       "<Figure size 720x720 with 2 Axes>"
      ]
     },
     "metadata": {
      "needs_background": "light"
     },
     "output_type": "display_data"
    }
   ],
   "source": [
    "plt.figure(figsize=(10, 10))\n",
    "ax = sns.heatmap(to_heatmap, annot=True, mask=matrix, cmap=\"YlGnBu\", vmax=1)\n",
    "plt.savefig('../pictures/SimilarityHeatMap.png', dpi=300)"
   ]
  },
  {
   "cell_type": "code",
   "execution_count": null,
   "metadata": {},
   "outputs": [],
   "source": []
  }
 ],
 "metadata": {
  "kernelspec": {
   "display_name": "Python 3.9.5 ('env_bio')",
   "language": "python",
   "name": "python3"
  },
  "language_info": {
   "codemirror_mode": {
    "name": "ipython",
    "version": 3
   },
   "file_extension": ".py",
   "mimetype": "text/x-python",
   "name": "python",
   "nbconvert_exporter": "python",
   "pygments_lexer": "ipython3",
   "version": "3.9.5"
  },
  "orig_nbformat": 4,
  "vscode": {
   "interpreter": {
    "hash": "c737589ac25c2b5207a58295544dae93bde342e9f173b68ed1d9625ade55517f"
   }
  }
 },
 "nbformat": 4,
 "nbformat_minor": 2
}
