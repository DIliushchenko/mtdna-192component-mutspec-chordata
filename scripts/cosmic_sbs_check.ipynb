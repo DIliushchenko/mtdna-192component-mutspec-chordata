{
 "cells": [
  {
   "cell_type": "code",
   "execution_count": 62,
   "metadata": {},
   "outputs": [],
   "source": [
    "import numpy as np\n",
    "import pandas as pd\n",
    "from scipy import spatial"
   ]
  },
  {
   "cell_type": "markdown",
   "metadata": {},
   "source": [
    "### Download mutspec of vertebrates and SBS cosmic data "
   ]
  },
  {
   "cell_type": "code",
   "execution_count": 50,
   "metadata": {},
   "outputs": [],
   "source": [
    "mut_vert = pd.read_csv('../data/MutSpecVertebratescytb.csv')\n",
    "cosm_sbs = pd.read_table('../data/external/cosmic_SBS.txt')"
   ]
  },
  {
   "cell_type": "markdown",
   "metadata": {},
   "source": [
    "### Change format of cosmic data"
   ]
  },
  {
   "cell_type": "code",
   "execution_count": 51,
   "metadata": {},
   "outputs": [],
   "source": [
    "cosm_sbs = cosm_sbs.rename(index=cosm_sbs.Type).drop(['Type'], axis=1)\n",
    "cosm_sbs = cosm_sbs.transpose().reset_index()"
   ]
  },
  {
   "cell_type": "code",
   "execution_count": 52,
   "metadata": {},
   "outputs": [
    {
     "data": {
      "text/html": [
       "<div>\n",
       "<style scoped>\n",
       "    .dataframe tbody tr th:only-of-type {\n",
       "        vertical-align: middle;\n",
       "    }\n",
       "\n",
       "    .dataframe tbody tr th {\n",
       "        vertical-align: top;\n",
       "    }\n",
       "\n",
       "    .dataframe thead th {\n",
       "        text-align: right;\n",
       "    }\n",
       "</style>\n",
       "<table border=\"1\" class=\"dataframe\">\n",
       "  <thead>\n",
       "    <tr style=\"text-align: right;\">\n",
       "      <th></th>\n",
       "      <th>sbs_type</th>\n",
       "      <th>Mut</th>\n",
       "      <th>MutSpec</th>\n",
       "      <th>MutBase</th>\n",
       "      <th>AncestorCodon</th>\n",
       "    </tr>\n",
       "  </thead>\n",
       "  <tbody>\n",
       "    <tr>\n",
       "      <th>0</th>\n",
       "      <td>SBS1</td>\n",
       "      <td>A[C&gt;A]A</td>\n",
       "      <td>8.861572e-04</td>\n",
       "      <td>C&gt;A</td>\n",
       "      <td>ACA</td>\n",
       "    </tr>\n",
       "    <tr>\n",
       "      <th>1</th>\n",
       "      <td>SBS2</td>\n",
       "      <td>A[C&gt;A]A</td>\n",
       "      <td>5.800168e-07</td>\n",
       "      <td>C&gt;A</td>\n",
       "      <td>ACA</td>\n",
       "    </tr>\n",
       "    <tr>\n",
       "      <th>2</th>\n",
       "      <td>SBS3</td>\n",
       "      <td>A[C&gt;A]A</td>\n",
       "      <td>2.080832e-02</td>\n",
       "      <td>C&gt;A</td>\n",
       "      <td>ACA</td>\n",
       "    </tr>\n",
       "    <tr>\n",
       "      <th>3</th>\n",
       "      <td>SBS4</td>\n",
       "      <td>A[C&gt;A]A</td>\n",
       "      <td>4.219650e-02</td>\n",
       "      <td>C&gt;A</td>\n",
       "      <td>ACA</td>\n",
       "    </tr>\n",
       "    <tr>\n",
       "      <th>4</th>\n",
       "      <td>SBS5</td>\n",
       "      <td>A[C&gt;A]A</td>\n",
       "      <td>1.199760e-02</td>\n",
       "      <td>C&gt;A</td>\n",
       "      <td>ACA</td>\n",
       "    </tr>\n",
       "  </tbody>\n",
       "</table>\n",
       "</div>"
      ],
      "text/plain": [
       "  sbs_type      Mut       MutSpec MutBase AncestorCodon\n",
       "0     SBS1  A[C>A]A  8.861572e-04     C>A           ACA\n",
       "1     SBS2  A[C>A]A  5.800168e-07     C>A           ACA\n",
       "2     SBS3  A[C>A]A  2.080832e-02     C>A           ACA\n",
       "3     SBS4  A[C>A]A  4.219650e-02     C>A           ACA\n",
       "4     SBS5  A[C>A]A  1.199760e-02     C>A           ACA"
      ]
     },
     "execution_count": 52,
     "metadata": {},
     "output_type": "execute_result"
    }
   ],
   "source": [
    "cosm_sbs = cosm_sbs.melt(\"index\", cosm_sbs.columns[1:], var_name=\"Mut\")\n",
    "cosm_sbs['MutBase'] = cosm_sbs.Mut.str.slice(2,5)\n",
    "cosm_sbs = cosm_sbs.rename(columns={'index':'sbs_type', 'value':'MutSpec'})\n",
    "cosm_sbs['AncestorCodon'] = cosm_sbs.Mut.str.get(0) + cosm_sbs.Mut.str.get(2) + cosm_sbs.Mut.str.get(-1)\n",
    "cosm_sbs.head()"
   ]
  },
  {
   "cell_type": "code",
   "execution_count": 53,
   "metadata": {},
   "outputs": [
    {
     "data": {
      "text/html": [
       "<div>\n",
       "<style scoped>\n",
       "    .dataframe tbody tr th:only-of-type {\n",
       "        vertical-align: middle;\n",
       "    }\n",
       "\n",
       "    .dataframe tbody tr th {\n",
       "        vertical-align: top;\n",
       "    }\n",
       "\n",
       "    .dataframe thead th {\n",
       "        text-align: right;\n",
       "    }\n",
       "</style>\n",
       "<table border=\"1\" class=\"dataframe\">\n",
       "  <thead>\n",
       "    <tr style=\"text-align: right;\">\n",
       "      <th></th>\n",
       "      <th>sbs_type</th>\n",
       "      <th>Mut</th>\n",
       "      <th>MutSpec</th>\n",
       "      <th>MutBase</th>\n",
       "      <th>AncestorCodon</th>\n",
       "    </tr>\n",
       "  </thead>\n",
       "  <tbody>\n",
       "    <tr>\n",
       "      <th>632</th>\n",
       "      <td>SBS1</td>\n",
       "      <td>A[C&gt;T]A</td>\n",
       "      <td>0.025004</td>\n",
       "      <td>C&gt;T</td>\n",
       "      <td>ACA</td>\n",
       "    </tr>\n",
       "    <tr>\n",
       "      <th>633</th>\n",
       "      <td>SBS2</td>\n",
       "      <td>A[C&gt;T]A</td>\n",
       "      <td>0.000061</td>\n",
       "      <td>C&gt;T</td>\n",
       "      <td>ACA</td>\n",
       "    </tr>\n",
       "    <tr>\n",
       "      <th>634</th>\n",
       "      <td>SBS3</td>\n",
       "      <td>A[C&gt;T]A</td>\n",
       "      <td>0.014206</td>\n",
       "      <td>C&gt;T</td>\n",
       "      <td>ACA</td>\n",
       "    </tr>\n",
       "    <tr>\n",
       "      <th>635</th>\n",
       "      <td>SBS4</td>\n",
       "      <td>A[C&gt;T]A</td>\n",
       "      <td>0.008699</td>\n",
       "      <td>C&gt;T</td>\n",
       "      <td>ACA</td>\n",
       "    </tr>\n",
       "    <tr>\n",
       "      <th>636</th>\n",
       "      <td>SBS5</td>\n",
       "      <td>A[C&gt;T]A</td>\n",
       "      <td>0.032593</td>\n",
       "      <td>C&gt;T</td>\n",
       "      <td>ACA</td>\n",
       "    </tr>\n",
       "  </tbody>\n",
       "</table>\n",
       "</div>"
      ],
      "text/plain": [
       "    sbs_type      Mut   MutSpec MutBase AncestorCodon\n",
       "632     SBS1  A[C>T]A  0.025004     C>T           ACA\n",
       "633     SBS2  A[C>T]A  0.000061     C>T           ACA\n",
       "634     SBS3  A[C>T]A  0.014206     C>T           ACA\n",
       "635     SBS4  A[C>T]A  0.008699     C>T           ACA\n",
       "636     SBS5  A[C>T]A  0.032593     C>T           ACA"
      ]
     },
     "execution_count": 53,
     "metadata": {},
     "output_type": "execute_result"
    }
   ],
   "source": [
    "cosm_comp = cosm_sbs[cosm_sbs.MutBase == 'C>T']\n",
    "cosm_comp.head()"
   ]
  },
  {
   "cell_type": "markdown",
   "metadata": {},
   "source": [
    "### Count MutSpec for all vertebrates"
   ]
  },
  {
   "cell_type": "code",
   "execution_count": 54,
   "metadata": {},
   "outputs": [
    {
     "data": {
      "text/html": [
       "<div>\n",
       "<style scoped>\n",
       "    .dataframe tbody tr th:only-of-type {\n",
       "        vertical-align: middle;\n",
       "    }\n",
       "\n",
       "    .dataframe tbody tr th {\n",
       "        vertical-align: top;\n",
       "    }\n",
       "\n",
       "    .dataframe thead th {\n",
       "        text-align: right;\n",
       "    }\n",
       "</style>\n",
       "<table border=\"1\" class=\"dataframe\">\n",
       "  <thead>\n",
       "    <tr style=\"text-align: right;\">\n",
       "      <th></th>\n",
       "      <th>Species</th>\n",
       "      <th>Mut</th>\n",
       "      <th>Expected</th>\n",
       "      <th>Observed</th>\n",
       "      <th>RawMutSpec</th>\n",
       "      <th>RawMutSpecSum</th>\n",
       "      <th>MutSpec</th>\n",
       "      <th>MutBase</th>\n",
       "      <th>Context</th>\n",
       "      <th>Class</th>\n",
       "    </tr>\n",
       "  </thead>\n",
       "  <tbody>\n",
       "    <tr>\n",
       "      <th>0</th>\n",
       "      <td>Abbottina_obtusirostris</td>\n",
       "      <td>T[T&gt;G]T</td>\n",
       "      <td>0.0</td>\n",
       "      <td>0.0</td>\n",
       "      <td>0.0</td>\n",
       "      <td>1.088889</td>\n",
       "      <td>0.0</td>\n",
       "      <td>T&gt;G</td>\n",
       "      <td>TTT</td>\n",
       "      <td>Actinopterygii</td>\n",
       "    </tr>\n",
       "    <tr>\n",
       "      <th>1</th>\n",
       "      <td>Abbottina_obtusirostris</td>\n",
       "      <td>G[T&gt;G]T</td>\n",
       "      <td>0.0</td>\n",
       "      <td>0.0</td>\n",
       "      <td>0.0</td>\n",
       "      <td>1.088889</td>\n",
       "      <td>0.0</td>\n",
       "      <td>T&gt;G</td>\n",
       "      <td>GTT</td>\n",
       "      <td>Actinopterygii</td>\n",
       "    </tr>\n",
       "    <tr>\n",
       "      <th>2</th>\n",
       "      <td>Abbottina_obtusirostris</td>\n",
       "      <td>C[T&gt;G]T</td>\n",
       "      <td>0.0</td>\n",
       "      <td>0.0</td>\n",
       "      <td>0.0</td>\n",
       "      <td>1.088889</td>\n",
       "      <td>0.0</td>\n",
       "      <td>T&gt;G</td>\n",
       "      <td>CTT</td>\n",
       "      <td>Actinopterygii</td>\n",
       "    </tr>\n",
       "    <tr>\n",
       "      <th>3</th>\n",
       "      <td>Abbottina_obtusirostris</td>\n",
       "      <td>A[T&gt;G]T</td>\n",
       "      <td>0.0</td>\n",
       "      <td>0.0</td>\n",
       "      <td>0.0</td>\n",
       "      <td>1.088889</td>\n",
       "      <td>0.0</td>\n",
       "      <td>T&gt;G</td>\n",
       "      <td>ATT</td>\n",
       "      <td>Actinopterygii</td>\n",
       "    </tr>\n",
       "    <tr>\n",
       "      <th>4</th>\n",
       "      <td>Abbottina_obtusirostris</td>\n",
       "      <td>T[T&gt;C]T</td>\n",
       "      <td>8.0</td>\n",
       "      <td>0.0</td>\n",
       "      <td>0.0</td>\n",
       "      <td>1.088889</td>\n",
       "      <td>0.0</td>\n",
       "      <td>T&gt;C</td>\n",
       "      <td>TTT</td>\n",
       "      <td>Actinopterygii</td>\n",
       "    </tr>\n",
       "  </tbody>\n",
       "</table>\n",
       "</div>"
      ],
      "text/plain": [
       "                   Species      Mut  Expected  Observed  RawMutSpec  \\\n",
       "0  Abbottina_obtusirostris  T[T>G]T       0.0       0.0         0.0   \n",
       "1  Abbottina_obtusirostris  G[T>G]T       0.0       0.0         0.0   \n",
       "2  Abbottina_obtusirostris  C[T>G]T       0.0       0.0         0.0   \n",
       "3  Abbottina_obtusirostris  A[T>G]T       0.0       0.0         0.0   \n",
       "4  Abbottina_obtusirostris  T[T>C]T       8.0       0.0         0.0   \n",
       "\n",
       "   RawMutSpecSum  MutSpec MutBase Context           Class  \n",
       "0       1.088889      0.0     T>G     TTT  Actinopterygii  \n",
       "1       1.088889      0.0     T>G     GTT  Actinopterygii  \n",
       "2       1.088889      0.0     T>G     CTT  Actinopterygii  \n",
       "3       1.088889      0.0     T>G     ATT  Actinopterygii  \n",
       "4       1.088889      0.0     T>C     TTT  Actinopterygii  "
      ]
     },
     "execution_count": 54,
     "metadata": {},
     "output_type": "execute_result"
    }
   ],
   "source": [
    "mut_vert.head()"
   ]
  },
  {
   "cell_type": "code",
   "execution_count": 55,
   "metadata": {},
   "outputs": [],
   "source": [
    "mut_vert = mut_vert.groupby(['Mut'])['RawMutSpec'].sum().reset_index()\n",
    "mut_vert[\"RawMutSpecSum\"] = mut_vert.RawMutSpec.sum()\n",
    "mut_vert['MutSpec'] = mut_vert.RawMutSpec / mut_vert.RawMutSpecSum\n",
    "mut_vert = mut_vert.drop(['RawMutSpec', 'RawMutSpecSum'], axis=1)\n"
   ]
  },
  {
   "cell_type": "markdown",
   "metadata": {},
   "source": [
    "### Save 192 comp MutSpec for ALL vertebrates "
   ]
  },
  {
   "cell_type": "code",
   "execution_count": 151,
   "metadata": {},
   "outputs": [],
   "source": [
    "mut_vert.to_csv('../data/MutSpecALLvert.csv', index=False)"
   ]
  },
  {
   "cell_type": "code",
   "execution_count": 59,
   "metadata": {},
   "outputs": [],
   "source": [
    "mut_vert['MutBase'] = mut_vert.Mut.str.slice(2,5)\n",
    "mut_vert['AncestorCodon'] = mut_vert.Mut.str.get(0) + mut_vert.Mut.str.get(2) + mut_vert.Mut.str.get(-1)\n",
    "mut_to_comp = mut_vert[mut_vert.MutBase == 'G>A']\n"
   ]
  },
  {
   "attachments": {},
   "cell_type": "markdown",
   "metadata": {},
   "source": [
    "### Count similarity betweeen each SBSX and MutSpec of vertebrates (G>A)"
   ]
  },
  {
   "cell_type": "code",
   "execution_count": 141,
   "metadata": {},
   "outputs": [],
   "source": [
    "cos_res = []\n",
    "for sbs in cosm_comp.sbs_type.drop_duplicates():\n",
    "    sbs_to_cosine = cosm_comp[cosm_comp.sbs_type == sbs]\n",
    "    cos = spatial.distance.cosine(sbs_to_cosine['MutSpec'], mut_to_comp['MutSpec'])\n",
    "    comp_r = {'SBS': sbs, 'Similarity': 1-cos}\n",
    "    cos_res.append(comp_r)\n",
    "cos_res = pd.DataFrame(cos_res)"
   ]
  },
  {
   "cell_type": "code",
   "execution_count": 142,
   "metadata": {},
   "outputs": [
    {
     "data": {
      "text/html": [
       "<div>\n",
       "<style scoped>\n",
       "    .dataframe tbody tr th:only-of-type {\n",
       "        vertical-align: middle;\n",
       "    }\n",
       "\n",
       "    .dataframe tbody tr th {\n",
       "        vertical-align: top;\n",
       "    }\n",
       "\n",
       "    .dataframe thead th {\n",
       "        text-align: right;\n",
       "    }\n",
       "</style>\n",
       "<table border=\"1\" class=\"dataframe\">\n",
       "  <thead>\n",
       "    <tr style=\"text-align: right;\">\n",
       "      <th></th>\n",
       "      <th>SBS</th>\n",
       "      <th>Similarity</th>\n",
       "    </tr>\n",
       "  </thead>\n",
       "  <tbody>\n",
       "    <tr>\n",
       "      <th>24</th>\n",
       "      <td>SBS18</td>\n",
       "      <td>0.914264</td>\n",
       "    </tr>\n",
       "    <tr>\n",
       "      <th>11</th>\n",
       "      <td>SBS9</td>\n",
       "      <td>0.927928</td>\n",
       "    </tr>\n",
       "    <tr>\n",
       "      <th>4</th>\n",
       "      <td>SBS5</td>\n",
       "      <td>0.952137</td>\n",
       "    </tr>\n",
       "    <tr>\n",
       "      <th>44</th>\n",
       "      <td>SBS38</td>\n",
       "      <td>0.954477</td>\n",
       "    </tr>\n",
       "    <tr>\n",
       "      <th>42</th>\n",
       "      <td>SBS36</td>\n",
       "      <td>0.961308</td>\n",
       "    </tr>\n",
       "  </tbody>\n",
       "</table>\n",
       "</div>"
      ],
      "text/plain": [
       "      SBS  Similarity\n",
       "24  SBS18    0.914264\n",
       "11   SBS9    0.927928\n",
       "4    SBS5    0.952137\n",
       "44  SBS38    0.954477\n",
       "42  SBS36    0.961308"
      ]
     },
     "execution_count": 142,
     "metadata": {},
     "output_type": "execute_result"
    }
   ],
   "source": [
    "cos_res.sort_values(by='Similarity').tail()"
   ]
  },
  {
   "attachments": {},
   "cell_type": "markdown",
   "metadata": {},
   "source": [
    "### Count simialrity between eqch SBSX and full MutSpec"
   ]
  },
  {
   "cell_type": "code",
   "execution_count": 87,
   "metadata": {},
   "outputs": [],
   "source": [
    "def gettranslate(mut, reverse=True):\n",
    "    translator = str.maketrans(\"ACGT\", \"TGCA\")\n",
    "    if reverse is True:\n",
    "        mut = mut[-1] + mut[1:-1] + mut[0]\n",
    "    new_mut = mut.translate(translator)\n",
    "    return new_mut\n",
    "\n",
    "\n",
    "def transform192_to96(asymmetry_df, df_transform):\n",
    "    to_96_comp = []\n",
    "    for num_subs in range(0,96):\n",
    "        # define ancestral and mutbase from mutspec according on 96 comp from asymmetry\n",
    "        anc = asymmetry_df.iloc[num_subs, 4]\n",
    "        mb = asymmetry_df.iloc[num_subs, 3]\n",
    "        # get reverse subs with context\n",
    "        rev_anc = gettranslate(anc, reverse=True)\n",
    "        rev_mb = gettranslate(mb, reverse=False)\n",
    "        # find mutspec num for the mutbase and context same with reverse, than devide on reverse\n",
    "        rev_mutspec = df_transform[(df_transform.MutBase == rev_mb) & (df_transform.AncestorCodon == rev_anc)].MutSpec.values[0]\n",
    "        mutspec = df_transform[(df_transform.MutBase == mb) & (df_transform.AncestorCodon == anc)].MutSpec.values[0]\n",
    "        new_96_mut = mutspec/rev_mutspec\n",
    "        #define row for future df\n",
    "        out_mut = {'AncestorCodon': anc, 'MutBase': mb, 'MutSpec': new_96_mut}\n",
    "        to_96_comp.append(out_mut)\n",
    "\n",
    "    mut_96_comp = pd.DataFrame(to_96_comp)\n",
    "    mut_96_comp[\"MutSpec\"] = mut_96_comp[\"MutSpec\"].replace(np.inf, 0)\n",
    "    mut_96_comp[\"MutSpec\"] = mut_96_comp[\"MutSpec\"].fillna(0)\n",
    "    return(mut_96_comp)"
   ]
  },
  {
   "cell_type": "code",
   "execution_count": 74,
   "metadata": {},
   "outputs": [
    {
     "data": {
      "text/html": [
       "<div>\n",
       "<style scoped>\n",
       "    .dataframe tbody tr th:only-of-type {\n",
       "        vertical-align: middle;\n",
       "    }\n",
       "\n",
       "    .dataframe tbody tr th {\n",
       "        vertical-align: top;\n",
       "    }\n",
       "\n",
       "    .dataframe thead th {\n",
       "        text-align: right;\n",
       "    }\n",
       "</style>\n",
       "<table border=\"1\" class=\"dataframe\">\n",
       "  <thead>\n",
       "    <tr style=\"text-align: right;\">\n",
       "      <th></th>\n",
       "      <th>sbs_type</th>\n",
       "      <th>Mut</th>\n",
       "      <th>MutSpec</th>\n",
       "      <th>MutBase</th>\n",
       "      <th>AncestorCodon</th>\n",
       "    </tr>\n",
       "  </thead>\n",
       "  <tbody>\n",
       "    <tr>\n",
       "      <th>0</th>\n",
       "      <td>SBS1</td>\n",
       "      <td>A[C&gt;A]A</td>\n",
       "      <td>0.000886</td>\n",
       "      <td>C&gt;A</td>\n",
       "      <td>ACA</td>\n",
       "    </tr>\n",
       "    <tr>\n",
       "      <th>79</th>\n",
       "      <td>SBS1</td>\n",
       "      <td>A[C&gt;A]C</td>\n",
       "      <td>0.002280</td>\n",
       "      <td>C&gt;A</td>\n",
       "      <td>ACC</td>\n",
       "    </tr>\n",
       "    <tr>\n",
       "      <th>158</th>\n",
       "      <td>SBS1</td>\n",
       "      <td>A[C&gt;A]G</td>\n",
       "      <td>0.000177</td>\n",
       "      <td>C&gt;A</td>\n",
       "      <td>ACG</td>\n",
       "    </tr>\n",
       "    <tr>\n",
       "      <th>237</th>\n",
       "      <td>SBS1</td>\n",
       "      <td>A[C&gt;A]T</td>\n",
       "      <td>0.001280</td>\n",
       "      <td>C&gt;A</td>\n",
       "      <td>ACT</td>\n",
       "    </tr>\n",
       "    <tr>\n",
       "      <th>316</th>\n",
       "      <td>SBS1</td>\n",
       "      <td>A[C&gt;G]A</td>\n",
       "      <td>0.001860</td>\n",
       "      <td>C&gt;G</td>\n",
       "      <td>ACA</td>\n",
       "    </tr>\n",
       "  </tbody>\n",
       "</table>\n",
       "</div>"
      ],
      "text/plain": [
       "    sbs_type      Mut   MutSpec MutBase AncestorCodon\n",
       "0       SBS1  A[C>A]A  0.000886     C>A           ACA\n",
       "79      SBS1  A[C>A]C  0.002280     C>A           ACC\n",
       "158     SBS1  A[C>A]G  0.000177     C>A           ACG\n",
       "237     SBS1  A[C>A]T  0.001280     C>A           ACT\n",
       "316     SBS1  A[C>G]A  0.001860     C>G           ACA"
      ]
     },
     "execution_count": 74,
     "metadata": {},
     "output_type": "execute_result"
    }
   ],
   "source": [
    "templ_as = cosm_sbs[cosm_sbs.sbs_type == 'SBS1']\n",
    "templ_as.head()"
   ]
  },
  {
   "cell_type": "code",
   "execution_count": 90,
   "metadata": {},
   "outputs": [
    {
     "name": "stderr",
     "output_type": "stream",
     "text": [
      "/var/folders/5l/9jtg_90x5s575m1zqn_h0kgm0000gn/T/ipykernel_86945/1364739460.py:21: RuntimeWarning: divide by zero encountered in double_scalars\n",
      "  new_96_mut = mutspec/rev_mutspec\n",
      "/var/folders/5l/9jtg_90x5s575m1zqn_h0kgm0000gn/T/ipykernel_86945/1364739460.py:21: RuntimeWarning: invalid value encountered in double_scalars\n",
      "  new_96_mut = mutspec/rev_mutspec\n"
     ]
    },
    {
     "data": {
      "text/html": [
       "<div>\n",
       "<style scoped>\n",
       "    .dataframe tbody tr th:only-of-type {\n",
       "        vertical-align: middle;\n",
       "    }\n",
       "\n",
       "    .dataframe tbody tr th {\n",
       "        vertical-align: top;\n",
       "    }\n",
       "\n",
       "    .dataframe thead th {\n",
       "        text-align: right;\n",
       "    }\n",
       "</style>\n",
       "<table border=\"1\" class=\"dataframe\">\n",
       "  <thead>\n",
       "    <tr style=\"text-align: right;\">\n",
       "      <th></th>\n",
       "      <th>AncestorCodon</th>\n",
       "      <th>MutBase</th>\n",
       "      <th>MutSpec</th>\n",
       "    </tr>\n",
       "  </thead>\n",
       "  <tbody>\n",
       "    <tr>\n",
       "      <th>0</th>\n",
       "      <td>ACA</td>\n",
       "      <td>C&gt;A</td>\n",
       "      <td>0.0</td>\n",
       "    </tr>\n",
       "    <tr>\n",
       "      <th>1</th>\n",
       "      <td>ACC</td>\n",
       "      <td>C&gt;A</td>\n",
       "      <td>0.0</td>\n",
       "    </tr>\n",
       "    <tr>\n",
       "      <th>2</th>\n",
       "      <td>ACG</td>\n",
       "      <td>C&gt;A</td>\n",
       "      <td>0.0</td>\n",
       "    </tr>\n",
       "    <tr>\n",
       "      <th>3</th>\n",
       "      <td>ACT</td>\n",
       "      <td>C&gt;A</td>\n",
       "      <td>0.0</td>\n",
       "    </tr>\n",
       "    <tr>\n",
       "      <th>4</th>\n",
       "      <td>ACA</td>\n",
       "      <td>C&gt;G</td>\n",
       "      <td>0.0</td>\n",
       "    </tr>\n",
       "  </tbody>\n",
       "</table>\n",
       "</div>"
      ],
      "text/plain": [
       "  AncestorCodon MutBase  MutSpec\n",
       "0           ACA     C>A      0.0\n",
       "1           ACC     C>A      0.0\n",
       "2           ACG     C>A      0.0\n",
       "3           ACT     C>A      0.0\n",
       "4           ACA     C>G      0.0"
      ]
     },
     "execution_count": 90,
     "metadata": {},
     "output_type": "execute_result"
    }
   ],
   "source": [
    "mut_96_comp = transform192_to96(asymmetry_df=templ_as, df_transform=mut_vert)\n",
    "mut_96_comp.head()"
   ]
  },
  {
   "cell_type": "code",
   "execution_count": 91,
   "metadata": {},
   "outputs": [],
   "source": [
    "cos_res = []\n",
    "for sbs in cosm_sbs.sbs_type.drop_duplicates():\n",
    "    sbs_to_cosine = cosm_sbs[cosm_sbs.sbs_type == sbs]\n",
    "    cos = spatial.distance.cosine(sbs_to_cosine['MutSpec'], mut_96_comp['MutSpec'])\n",
    "    comp_r = {'SBS': sbs, 'Similarity': 1-cos}\n",
    "    cos_res.append(comp_r)\n",
    "cos_res = pd.DataFrame(cos_res)"
   ]
  },
  {
   "cell_type": "code",
   "execution_count": 93,
   "metadata": {},
   "outputs": [
    {
     "data": {
      "text/html": [
       "<div>\n",
       "<style scoped>\n",
       "    .dataframe tbody tr th:only-of-type {\n",
       "        vertical-align: middle;\n",
       "    }\n",
       "\n",
       "    .dataframe tbody tr th {\n",
       "        vertical-align: top;\n",
       "    }\n",
       "\n",
       "    .dataframe thead th {\n",
       "        text-align: right;\n",
       "    }\n",
       "</style>\n",
       "<table border=\"1\" class=\"dataframe\">\n",
       "  <thead>\n",
       "    <tr style=\"text-align: right;\">\n",
       "      <th></th>\n",
       "      <th>SBS</th>\n",
       "      <th>Similarity</th>\n",
       "    </tr>\n",
       "  </thead>\n",
       "  <tbody>\n",
       "    <tr>\n",
       "      <th>4</th>\n",
       "      <td>SBS5</td>\n",
       "      <td>0.573457</td>\n",
       "    </tr>\n",
       "    <tr>\n",
       "      <th>38</th>\n",
       "      <td>SBS32</td>\n",
       "      <td>0.604126</td>\n",
       "    </tr>\n",
       "    <tr>\n",
       "      <th>16</th>\n",
       "      <td>SBS11</td>\n",
       "      <td>0.611283</td>\n",
       "    </tr>\n",
       "    <tr>\n",
       "      <th>29</th>\n",
       "      <td>SBS23</td>\n",
       "      <td>0.647296</td>\n",
       "    </tr>\n",
       "    <tr>\n",
       "      <th>36</th>\n",
       "      <td>SBS30</td>\n",
       "      <td>0.674522</td>\n",
       "    </tr>\n",
       "  </tbody>\n",
       "</table>\n",
       "</div>"
      ],
      "text/plain": [
       "      SBS  Similarity\n",
       "4    SBS5    0.573457\n",
       "38  SBS32    0.604126\n",
       "16  SBS11    0.611283\n",
       "29  SBS23    0.647296\n",
       "36  SBS30    0.674522"
      ]
     },
     "execution_count": 93,
     "metadata": {},
     "output_type": "execute_result"
    }
   ],
   "source": [
    "cos_res.sort_values(by='Similarity').tail()"
   ]
  }
 ],
 "metadata": {
  "kernelspec": {
   "display_name": "Python 3.10.2 64-bit",
   "language": "python",
   "name": "python3"
  },
  "language_info": {
   "codemirror_mode": {
    "name": "ipython",
    "version": 3
   },
   "file_extension": ".py",
   "mimetype": "text/x-python",
   "name": "python",
   "nbconvert_exporter": "python",
   "pygments_lexer": "ipython3",
   "version": "3.10.2"
  },
  "orig_nbformat": 4,
  "vscode": {
   "interpreter": {
    "hash": "aee8b7b246df8f9039afb4144a1f6fd8d2ca17a180786b69acc140d282b71a49"
   }
  }
 },
 "nbformat": 4,
 "nbformat_minor": 2
}
