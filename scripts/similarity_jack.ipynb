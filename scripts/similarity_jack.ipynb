{
 "cells": [
  {
   "cell_type": "code",
   "execution_count": 1,
   "metadata": {},
   "outputs": [],
   "source": [
    "import pandas as pd\n",
    "import numpy as np\n",
    "import itertools\n",
    "\n",
    "import matplotlib\n",
    "import matplotlib.pyplot as plt\n",
    "import seaborn as sns\n",
    "\n",
    "from scipy import spatial"
   ]
  },
  {
   "cell_type": "code",
   "execution_count": 2,
   "metadata": {},
   "outputs": [
    {
     "data": {
      "text/html": [
       "<div>\n",
       "<style scoped>\n",
       "    .dataframe tbody tr th:only-of-type {\n",
       "        vertical-align: middle;\n",
       "    }\n",
       "\n",
       "    .dataframe tbody tr th {\n",
       "        vertical-align: top;\n",
       "    }\n",
       "\n",
       "    .dataframe thead th {\n",
       "        text-align: right;\n",
       "    }\n",
       "</style>\n",
       "<table border=\"1\" class=\"dataframe\">\n",
       "  <thead>\n",
       "    <tr style=\"text-align: right;\">\n",
       "      <th></th>\n",
       "      <th>Species</th>\n",
       "      <th>Mut</th>\n",
       "      <th>Expected</th>\n",
       "      <th>Observed</th>\n",
       "      <th>RawMutSpec</th>\n",
       "      <th>RawMutSpecSum</th>\n",
       "      <th>MutSpec</th>\n",
       "      <th>MutBase</th>\n",
       "      <th>Context</th>\n",
       "      <th>Class</th>\n",
       "    </tr>\n",
       "  </thead>\n",
       "  <tbody>\n",
       "    <tr>\n",
       "      <th>0</th>\n",
       "      <td>Abbottina_obtusirostris</td>\n",
       "      <td>T[T&gt;G]T</td>\n",
       "      <td>0.0</td>\n",
       "      <td>0.0</td>\n",
       "      <td>0.0</td>\n",
       "      <td>1.088889</td>\n",
       "      <td>0.0</td>\n",
       "      <td>T&gt;G</td>\n",
       "      <td>TTT</td>\n",
       "      <td>Actinopterygii</td>\n",
       "    </tr>\n",
       "    <tr>\n",
       "      <th>1</th>\n",
       "      <td>Abbottina_obtusirostris</td>\n",
       "      <td>G[T&gt;G]T</td>\n",
       "      <td>0.0</td>\n",
       "      <td>0.0</td>\n",
       "      <td>0.0</td>\n",
       "      <td>1.088889</td>\n",
       "      <td>0.0</td>\n",
       "      <td>T&gt;G</td>\n",
       "      <td>GTT</td>\n",
       "      <td>Actinopterygii</td>\n",
       "    </tr>\n",
       "    <tr>\n",
       "      <th>2</th>\n",
       "      <td>Abbottina_obtusirostris</td>\n",
       "      <td>C[T&gt;G]T</td>\n",
       "      <td>0.0</td>\n",
       "      <td>0.0</td>\n",
       "      <td>0.0</td>\n",
       "      <td>1.088889</td>\n",
       "      <td>0.0</td>\n",
       "      <td>T&gt;G</td>\n",
       "      <td>CTT</td>\n",
       "      <td>Actinopterygii</td>\n",
       "    </tr>\n",
       "    <tr>\n",
       "      <th>3</th>\n",
       "      <td>Abbottina_obtusirostris</td>\n",
       "      <td>A[T&gt;G]T</td>\n",
       "      <td>0.0</td>\n",
       "      <td>0.0</td>\n",
       "      <td>0.0</td>\n",
       "      <td>1.088889</td>\n",
       "      <td>0.0</td>\n",
       "      <td>T&gt;G</td>\n",
       "      <td>ATT</td>\n",
       "      <td>Actinopterygii</td>\n",
       "    </tr>\n",
       "    <tr>\n",
       "      <th>4</th>\n",
       "      <td>Abbottina_obtusirostris</td>\n",
       "      <td>T[T&gt;C]T</td>\n",
       "      <td>8.0</td>\n",
       "      <td>0.0</td>\n",
       "      <td>0.0</td>\n",
       "      <td>1.088889</td>\n",
       "      <td>0.0</td>\n",
       "      <td>T&gt;C</td>\n",
       "      <td>TTT</td>\n",
       "      <td>Actinopterygii</td>\n",
       "    </tr>\n",
       "  </tbody>\n",
       "</table>\n",
       "</div>"
      ],
      "text/plain": [
       "                   Species      Mut  Expected  Observed  RawMutSpec  \\\n",
       "0  Abbottina_obtusirostris  T[T>G]T       0.0       0.0         0.0   \n",
       "1  Abbottina_obtusirostris  G[T>G]T       0.0       0.0         0.0   \n",
       "2  Abbottina_obtusirostris  C[T>G]T       0.0       0.0         0.0   \n",
       "3  Abbottina_obtusirostris  A[T>G]T       0.0       0.0         0.0   \n",
       "4  Abbottina_obtusirostris  T[T>C]T       8.0       0.0         0.0   \n",
       "\n",
       "   RawMutSpecSum  MutSpec MutBase Context           Class  \n",
       "0       1.088889      0.0     T>G     TTT  Actinopterygii  \n",
       "1       1.088889      0.0     T>G     GTT  Actinopterygii  \n",
       "2       1.088889      0.0     T>G     CTT  Actinopterygii  \n",
       "3       1.088889      0.0     T>G     ATT  Actinopterygii  \n",
       "4       1.088889      0.0     T>C     TTT  Actinopterygii  "
      ]
     },
     "execution_count": 2,
     "metadata": {},
     "output_type": "execute_result"
    }
   ],
   "source": [
    "mut = pd.read_csv('../data/MutSpecVertebratescytb.csv')\n",
    "mut.head()"
   ]
  },
  {
   "cell_type": "code",
   "execution_count": 3,
   "metadata": {},
   "outputs": [
    {
     "data": {
      "text/html": [
       "<div>\n",
       "<style scoped>\n",
       "    .dataframe tbody tr th:only-of-type {\n",
       "        vertical-align: middle;\n",
       "    }\n",
       "\n",
       "    .dataframe tbody tr th {\n",
       "        vertical-align: top;\n",
       "    }\n",
       "\n",
       "    .dataframe thead th {\n",
       "        text-align: right;\n",
       "    }\n",
       "</style>\n",
       "<table border=\"1\" class=\"dataframe\">\n",
       "  <thead>\n",
       "    <tr style=\"text-align: right;\">\n",
       "      <th></th>\n",
       "      <th>Mut</th>\n",
       "      <th>MutSpec</th>\n",
       "      <th>Class</th>\n",
       "    </tr>\n",
       "  </thead>\n",
       "  <tbody>\n",
       "    <tr>\n",
       "      <th>0</th>\n",
       "      <td>A[A&gt;C]A</td>\n",
       "      <td>0.000000</td>\n",
       "      <td>ex_dloop</td>\n",
       "    </tr>\n",
       "    <tr>\n",
       "      <th>1</th>\n",
       "      <td>A[A&gt;C]C</td>\n",
       "      <td>0.000783</td>\n",
       "      <td>ex_dloop</td>\n",
       "    </tr>\n",
       "    <tr>\n",
       "      <th>2</th>\n",
       "      <td>A[A&gt;C]G</td>\n",
       "      <td>0.000000</td>\n",
       "      <td>ex_dloop</td>\n",
       "    </tr>\n",
       "    <tr>\n",
       "      <th>3</th>\n",
       "      <td>A[A&gt;C]T</td>\n",
       "      <td>0.000084</td>\n",
       "      <td>ex_dloop</td>\n",
       "    </tr>\n",
       "    <tr>\n",
       "      <th>4</th>\n",
       "      <td>A[A&gt;G]A</td>\n",
       "      <td>0.008273</td>\n",
       "      <td>ex_dloop</td>\n",
       "    </tr>\n",
       "  </tbody>\n",
       "</table>\n",
       "</div>"
      ],
      "text/plain": [
       "       Mut   MutSpec     Class\n",
       "0  A[A>C]A  0.000000  ex_dloop\n",
       "1  A[A>C]C  0.000783  ex_dloop\n",
       "2  A[A>C]G  0.000000  ex_dloop\n",
       "3  A[A>C]T  0.000084  ex_dloop\n",
       "4  A[A>G]A  0.008273  ex_dloop"
      ]
     },
     "execution_count": 3,
     "metadata": {},
     "output_type": "execute_result"
    }
   ],
   "source": [
    "canc_df = pd.read_csv('../data/external/cancer_mutspec.csv')\n",
    "canc_df = canc_df[['Mut','MutSpec_ExDloop']]\n",
    "canc_df = canc_df.rename(columns={\"MutSpec_ExDloop\":\"MutSpec\"})\n",
    "canc_df['Class'] = 'ex_dloop'\n",
    "canc_df.head()"
   ]
  },
  {
   "cell_type": "code",
   "execution_count": 4,
   "metadata": {},
   "outputs": [],
   "source": [
    "cl_vec = list(mut['Class'].drop_duplicates()) + ['cancer']"
   ]
  },
  {
   "cell_type": "code",
   "execution_count": 5,
   "metadata": {},
   "outputs": [],
   "source": [
    "def calc_mutspec_class(df: pd.DataFrame):\n",
    "    ms_cls = df.groupby(['Class','Mut'])['RawMutSpec'].sum().reset_index()\n",
    "    ms_cls[\"RawMutSpecSum\"] = ms_cls.Class.map(ms_cls.groupby(\"Class\").RawMutSpec.sum().to_dict())\n",
    "    ms_cls['MutSpec'] = ms_cls.RawMutSpec / ms_cls.RawMutSpecSum\n",
    "    ms_cls = ms_cls.drop(['RawMutSpec', 'RawMutSpecSum'], axis=1)\n",
    "    \n",
    "    return ms_cls"
   ]
  },
  {
   "cell_type": "code",
   "execution_count": 106,
   "metadata": {},
   "outputs": [],
   "source": [
    "n_iter = 1000\n",
    "n = 0\n",
    "to_heatmap = []\n",
    "while n < n_iter:\n",
    "\n",
    "    for cls1 in cl_vec:\n",
    "        for cls2 in cl_vec:\n",
    "            if cls1 == cls2:\n",
    "                cos192 = 0\n",
    "            elif cls1 =='cancer':\n",
    "                df1 = canc_df\n",
    "                df2_sps = mut[mut['Class'] == cls2]['Species'].sample(n=20, replace=False)\n",
    "                df2 = calc_mutspec_class(mut[mut['Species'].isin(df2_sps)])\n",
    "                cos192 = spatial.distance.cosine(df1['MutSpec'], df2['MutSpec'])\n",
    "            elif cls2 == 'cancer':\n",
    "                df1_sps = mut[mut['Class'] == cls1]['Species'].sample(n=20, replace=False)\n",
    "                df1 = calc_mutspec_class(mut[mut['Species'].isin(df1_sps)])\n",
    "                df2 = canc_df\n",
    "                cos192 = spatial.distance.cosine(df1['MutSpec'], df2['MutSpec'])\n",
    "            else:\n",
    "                df1_sps = mut[mut['Class'] == cls1]['Species'].sample(n=20, replace=False)\n",
    "                df1 = calc_mutspec_class(mut[mut['Species'].isin(df1_sps)])\n",
    "                df2_sps = mut[mut['Class'] == cls2]['Species'].sample(n=20, replace=False)\n",
    "                df2 = calc_mutspec_class(mut[mut['Species'].isin(df2_sps)])\n",
    "                cos192 = spatial.distance.cosine(df1['MutSpec'], df2['MutSpec'])\n",
    "                \n",
    "            cos_res = {'Class1':cls1, 'Class2':cls2, 'Similarity':1-cos192}\n",
    "            to_heatmap.append(cos_res)\n",
    "    n += 1"
   ]
  },
  {
   "cell_type": "code",
   "execution_count": 116,
   "metadata": {},
   "outputs": [
    {
     "data": {
      "image/png": "[encoded data removed]",
      "text/plain": [
       "<Figure size 720x720 with 2 Axes>"
      ]
     },
     "metadata": {
      "needs_background": "light"
     },
     "output_type": "display_data"
    }
   ],
   "source": [
    "to_heatmap = pd.DataFrame(to_heatmap)\n",
    "#to_heatmap.groupby(['Class1', 'Class2']).mean().reset_index()\n",
    "all_heatmap = to_heatmap.groupby(['Class1', 'Class2']).mean().reset_index().pivot('Class2', 'Class1', 'Similarity')\n",
    "matrix = np.triu(all_heatmap)\n",
    "plt.figure(figsize=(10, 10))\n",
    "ax = sns.heatmap(all_heatmap, annot=True, mask=matrix, cmap=\"YlGnBu\", vmin =0.55, vmax=1)\n",
    "ax.set_title('Similarity of all mutations between classes using jackkinfe (n samples = 20)')\n",
    "plt.savefig('../pictures/Jackknife_Similarity.pdf', dpi=300)"
   ]
  },
  {
   "cell_type": "code",
   "execution_count": null,
   "metadata": {},
   "outputs": [],
   "source": []
  }
 ],
 "metadata": {
  "kernelspec": {
   "display_name": "Python 3.10.2 64-bit",
   "language": "python",
   "name": "python3"
  },
  "language_info": {
   "codemirror_mode": {
    "name": "ipython",
    "version": 3
   },
   "file_extension": ".py",
   "mimetype": "text/x-python",
   "name": "python",
   "nbconvert_exporter": "python",
   "pygments_lexer": "ipython3",
   "version": "3.10.2"
  },
  "orig_nbformat": 4,
  "vscode": {
   "interpreter": {
    "hash": "aee8b7b246df8f9039afb4144a1f6fd8d2ca17a180786b69acc140d282b71a49"
   }
  }
 },
 "nbformat": 4,
 "nbformat_minor": 2
}
